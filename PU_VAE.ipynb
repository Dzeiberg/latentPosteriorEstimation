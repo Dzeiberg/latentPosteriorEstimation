{
 "cells": [
  {
   "cell_type": "code",
   "execution_count": 4,
   "metadata": {
    "ExecuteTime": {
     "end_time": "2021-11-11T16:31:25.633473Z",
     "start_time": "2021-11-11T16:31:23.989191Z"
    }
   },
   "outputs": [],
   "source": [
    "import os\n",
    "import torch\n",
    "from torch import nn\n",
    "import torch.nn.functional as F\n",
    "from torch.utils.data import DataLoader, random_split, TensorDataset\n",
    "import pytorch_lightning as pl\n",
    "import scipy.stats as ss\n",
    "\n",
    "import numpy as np\n",
    "\n",
    "from tqdm.notebook import trange\n",
    "\n",
    "import matplotlib.pyplot as plt"
   ]
  },
  {
   "cell_type": "markdown",
   "metadata": {},
   "source": [
    "# Data Generating Process"
   ]
  },
  {
   "cell_type": "code",
   "execution_count": 5,
   "metadata": {
    "ExecuteTime": {
     "end_time": "2021-11-11T16:31:26.987936Z",
     "start_time": "2021-11-11T16:31:26.981648Z"
    }
   },
   "outputs": [],
   "source": [
    "def bootstrap(arrs,size):\n",
    "    \n",
    "    indices = np.random.choice(np.arange(len(x)),size)\n",
    "    return x[indices]"
   ]
  },
  {
   "cell_type": "code",
   "execution_count": 36,
   "metadata": {
    "ExecuteTime": {
     "end_time": "2021-11-11T16:39:23.986974Z",
     "start_time": "2021-11-11T16:39:23.969117Z"
    }
   },
   "outputs": [],
   "source": [
    "DIM = 1\n",
    "OFFSET= 2\n",
    "NUM_UNLABELED = 10000\n",
    "NUM_LABELED = 1000\n",
    "COV = 1\n",
    "ZCOV= np.eye(DIM)\n",
    "def genData():\n",
    "    # UNLABELED\n",
    "    pi = .5\n",
    "    mu_1,mu_2 = np.zeros(DIM) + OFFSET, np.zeros(DIM) - OFFSET\n",
    "    y = np.random.binomial(1,pi,size=NUM_UNLABELED).astype(bool)\n",
    "    z = np.zeros((NUM_UNLABELED,DIM))\n",
    "    z[y] = np.random.multivariate_normal(mu_1,ZCOV,size=y.sum())\n",
    "    z[~y] = np.random.multivariate_normal(mu_2,ZCOV,size=y.shape[0] - y.sum())\n",
    "    x = torch.normal(torch.Tensor(z),COV)\n",
    "    # POSITIVE\n",
    "    zp = np.random.multivariate_normal(mu_1,np.eye(DIM),size=NUM_LABELED)\n",
    "    xp = torch.normal(torch.Tensor(zp),1)\n",
    "    posIndices = np.random.choice(np.arange(len(xp)),NUM_UNLABELED)\n",
    "    xp = xp[posIndices]\n",
    "    zp = zp[posIndices]\n",
    "    return xp,x,torch.Tensor(zp),torch.Tensor(z)"
   ]
  },
  {
   "cell_type": "code",
   "execution_count": 17,
   "metadata": {
    "ExecuteTime": {
     "end_time": "2021-11-11T16:35:23.691495Z",
     "start_time": "2021-11-11T16:35:23.680647Z"
    }
   },
   "outputs": [],
   "source": [
    "dl = DataLoader(TensorDataset(*genData()),batch_size=1024,)"
   ]
  },
  {
   "cell_type": "code",
   "execution_count": 29,
   "metadata": {
    "ExecuteTime": {
     "end_time": "2021-11-11T16:38:05.827975Z",
     "start_time": "2021-11-11T16:38:05.578545Z"
    }
   },
   "outputs": [
    {
     "data": {
      "text/plain": [
       "<matplotlib.legend.Legend at 0x7f72d2a4fa50>"
      ]
     },
     "execution_count": 29,
     "metadata": {},
     "output_type": "execute_result"
    },
    {
     "data": {
      "image/png": "[encoded data removed]",
      "text/plain": [
       "<Figure size 432x288 with 1 Axes>"
      ]
     },
     "metadata": {
      "needs_background": "light"
     },
     "output_type": "display_data"
    }
   ],
   "source": [
    "plt.hist(dl.dataset.tensors[0].numpy().ravel(),bins=25,label=r\"$x_p$\")\n",
    "plt.hist(dl.dataset.tensors[1].numpy().ravel(),alpha=.5,bins=25,label=r\"$x$\")\n",
    "plt.legend()"
   ]
  },
  {
   "cell_type": "code",
   "execution_count": 30,
   "metadata": {
    "ExecuteTime": {
     "end_time": "2021-11-11T16:38:25.622544Z",
     "start_time": "2021-11-11T16:38:25.379523Z"
    }
   },
   "outputs": [
    {
     "data": {
      "text/plain": [
       "<matplotlib.legend.Legend at 0x7f72d2ea2ed0>"
      ]
     },
     "execution_count": 30,
     "metadata": {},
     "output_type": "execute_result"
    },
    {
     "data": {
      "image/png": "[encoded data removed]",
      "text/plain": [
       "<Figure size 432x288 with 1 Axes>"
      ]
     },
     "metadata": {
      "needs_background": "light"
     },
     "output_type": "display_data"
    }
   ],
   "source": [
    "plt.hist(dl.dataset.tensors[2].numpy().ravel(),bins=25,label=r\"$z_p$\")\n",
    "plt.hist(dl.dataset.tensors[3].numpy().ravel(),alpha=.5,bins=25,label=r\"$z$\")\n",
    "plt.legend()"
   ]
  },
  {
   "cell_type": "code",
   "execution_count": 31,
   "metadata": {
    "ExecuteTime": {
     "end_time": "2021-11-11T16:38:44.550756Z",
     "start_time": "2021-11-11T16:38:44.546143Z"
    }
   },
   "outputs": [],
   "source": [
    "import pdb"
   ]
  },
  {
   "cell_type": "code",
   "execution_count": 32,
   "metadata": {
    "ExecuteTime": {
     "end_time": "2021-11-11T16:38:44.708656Z",
     "start_time": "2021-11-11T16:38:44.703962Z"
    }
   },
   "outputs": [],
   "source": [
    "import numpy as np"
   ]
  },
  {
   "cell_type": "code",
   "execution_count": 39,
   "metadata": {
    "ExecuteTime": {
     "end_time": "2021-11-11T16:39:48.944378Z",
     "start_time": "2021-11-11T16:39:48.901414Z"
    }
   },
   "outputs": [],
   "source": [
    "elboUS = []\n",
    "elboPS = []\n",
    "PIS = []\n",
    "class PUVAE(pl.LightningModule):\n",
    "    def __init__(self,input_dim, h_dim, z_dim,COV,ZCOV,EMSTEPS=10,JOINT_EM=True):\n",
    "        super().__init__()\n",
    "        self.encoder = nn.Sequential(nn.Linear(input_dim, h_dim),nn.ReLU(),\n",
    "                                     nn.Linear(h_dim, h_dim),nn.ReLU(),\n",
    "                                     nn.Linear(h_dim, h_dim),nn.ReLU())\n",
    "        self.mu_encoder = nn.Sequential(nn.Linear(h_dim, z_dim))\n",
    "        self.cov_encoder = nn.Sequential(nn.Linear(h_dim, z_dim))\n",
    "        self.decoder = nn.Sequential(nn.Linear(z_dim, h_dim), nn.ReLU(),\n",
    "                                     nn.Linear(h_dim, h_dim), nn.ReLU(),\n",
    "                                     nn.Linear(h_dim, input_dim))\n",
    "        self.pi = torch.ones(1) * .5\n",
    "        self.mu = torch.randn(2,z_dim) \n",
    "        self.z_dim = z_dim\n",
    "        self.EMSTEPS = EMSTEPS\n",
    "        self.COV = COV\n",
    "        self.ZCOV = ZCOV\n",
    "        self.JOINT_EM= JOINT_EM\n",
    "\n",
    "    def forward(self, x):\n",
    "        N = x.shape[0]\n",
    "        h = self.encoder(x)\n",
    "        mu = self.mu_encoder(h)\n",
    "        sigma = torch.exp(self.cov_encoder(h))\n",
    "        eps = torch.randn(*mu.shape)\n",
    "        z= eps * sigma + mu\n",
    "        return z, self.decoder(z)\n",
    "\n",
    "    def training_step(self, batch, batch_idx):\n",
    "        # separate positive and unlabeled\n",
    "        xP, x,trueZP,trueZ = batch\n",
    "        ######### Sample from q(z|x) ############\n",
    "        h = self.encoder(x)\n",
    "        mu = self.mu_encoder(h)\n",
    "        sigma = torch.exp(self.cov_encoder(h))\n",
    "        eps = torch.randn(*mu.shape,)\n",
    "        z = eps * sigma + mu\n",
    "        ######### Sample from q(z|xp) ##########\n",
    "        hP = self.encoder(xP)\n",
    "        muP = self.mu_encoder(hP)\n",
    "        sigmaP = torch.exp(self.cov_encoder(hP))\n",
    "        epsP = torch.randn(*muP.shape)\n",
    "        zP = epsP * sigmaP + muP\n",
    "        ####### Calculate q(z|x) ###############\n",
    "        n = torch.distributions.Normal(mu,sigma)\n",
    "        qzx = n.log_prob(z).sum(-1)\n",
    "        ####### Calculate q(zP|xP) ###############\n",
    "        nP = torch.distributions.Normal(muP,sigmaP)\n",
    "        qzPxP = nP.log_prob(zP).sum(-1)\n",
    "        ###### Calculate p(x|z) ###############\n",
    "        xHat = self.decoder(z)\n",
    "        n1 = torch.distributions.Normal(xHat, self.COV)\n",
    "        pxz = n1.log_prob(xHat).sum(-1)\n",
    "        ###### Calculate p(xP|zP) ###############\n",
    "        xPHat = self.decoder(zP)\n",
    "        n1P = torch.distributions.Normal(xPHat, self.COV)\n",
    "        pxPzP = n1P.log_prob(xPHat).sum(-1)\n",
    "        ################# DEBUG PLOTS #################\n",
    "#         fig,ax = plt.subplots(2,1)\n",
    "# #         fig.set_facecolor(\"white\")\n",
    "#         ax[0].hist(z.detach().numpy().ravel())\n",
    "#         ax[1].hist(xHat.detach().numpy().ravel())\n",
    "#         fig.tight_layout()\n",
    "#         plt.show()\n",
    "        ########## EM-Steps ###################\n",
    "        # two options either include labeled data (and fix gammas) or exclude as is done below\n",
    "        delta = 1e-5\n",
    "        if self.JOINT_EM:\n",
    "            zd = torch.concat([z, zP]).detach()\n",
    "        else:\n",
    "            zd = z.detach()\n",
    "        for em_step in range(self.EMSTEPS):\n",
    "            #################### E-STEP #######################################\n",
    "            m0 = torch.distributions.Normal(self.mu[0],self.ZCOV)\n",
    "            m1 = torch.distributions.Normal(self.mu[1],self.ZCOV)\n",
    "            gamma_0 = torch.log((1-self.pi)) + m0.log_prob(zd).sum(-1)\n",
    "            gamma_1 = torch.log(self.pi) + m1.log_prob(zd).sum(-1)\n",
    "            gamma_0_1 = torch.softmax(torch.stack([gamma_0,gamma_1]),0)\n",
    "            gamma_n_0 = gamma_0_1[0]\n",
    "            gamma_n_1 = gamma_0_1[1]\n",
    "            if self.JOINT_EM:\n",
    "                gamma_n_0[-zP.shape[0]:] = 0\n",
    "                gamma_n_1[-zP.shape[0]:] = 1\n",
    "            ################### M-STEP #########################################\n",
    "            n0 = gamma_n_0.sum()\n",
    "            n1 = gamma_n_1.sum()\n",
    "            \n",
    "            self.mu[0] = (gamma_n_0[...,None] * zd).sum(0) / (n0 + delta)\n",
    "            self.mu[1] = (gamma_n_1[...,None] * zd).sum(0) / (n1 + delta)\n",
    "            self.pi = n1 / (n0 + n1)\n",
    "        self.log(\"pi\", self.pi)\n",
    "        PIS.append(self.pi)\n",
    "        ########### Calculate p(z) ###########################################\n",
    "        p0 = torch.distributions.Normal(self.mu[0],self.ZCOV)\n",
    "        p1 = torch.distributions.Normal(self.mu[1],self.ZCOV)\n",
    "        v0 = torch.log(1 - self.pi) + p0.log_prob(z).sum(-1)\n",
    "        v1 = torch.log(self.pi) + p1.log_prob(z).sum(-1)\n",
    "        pz = torch.logsumexp(torch.stack([v0,v1]),0)\n",
    "        \n",
    "        ############ Calculate p(zP) #######################################\n",
    "        pzP = torch.log(self.pi) + p1.log_prob(zP).sum(-1)\n",
    "        ############ Calculate ELBO-U #########################################\n",
    "        \n",
    "        elboU = (pxz + pz - qzx).mean()\n",
    "        self.log(\"elboU\",elboU)\n",
    "        elboUS.append(elboU.item())\n",
    "        ############## Calculate ELBO-P ###########################\n",
    "        elboP = (pxPzP + pzP - qzPxP).mean()\n",
    "        self.log(\"elboP\", elboP)\n",
    "        elboPS.append(elboP.item())\n",
    "        ############### Total Loss ############\n",
    "        loss = -(elboU + elboP)\n",
    "        tensorboard = self.logger.experiment\n",
    "        tensorboard.add_histogram(\"p(x|z)\",torch.exp(pxz).detach())\n",
    "        tensorboard.add_histogram(\"p(z)\",torch.exp(pz))\n",
    "        tensorboard.add_histogram(\"q(z|x)\",torch.exp(qzx))\n",
    "        tensorboard.add_histogram(\"$p(x_p|z_p)$\",torch.exp(pxPzP))\n",
    "        tensorboard.add_histogram(\"$p(z_p)$\",torch.exp(pzP))\n",
    "        tensorboard.add_histogram(\"$q(z_p|x_p)$\",torch.exp(qzPxP))\n",
    "        tensorboard.add_histogram(\"xHat\",xHat)\n",
    "        tensorboard.add_histogram(\"xPHat\",xPHat)\n",
    "        tensorboard.add_histogram(\"z\",z)\n",
    "        tensorboard.add_histogram(\"z_p\",zP)\n",
    "        self.log(\"loss\",loss)\n",
    "        return loss\n",
    "    def configure_optimizers(self):\n",
    "        optimizer = torch.optim.Adam(self.parameters(), lr=1e-3)\n",
    "        return optimizer"
   ]
  },
  {
   "cell_type": "code",
   "execution_count": 40,
   "metadata": {
    "ExecuteTime": {
     "end_time": "2021-11-11T16:39:49.896465Z",
     "start_time": "2021-11-11T16:39:49.887149Z"
    }
   },
   "outputs": [],
   "source": [
    "puvae = PUVAE(DIM,32,1,COV=COV,ZCOV=torch.Tensor(ZCOV),EMSTEPS=100,JOINT_EM=False)"
   ]
  },
  {
   "cell_type": "code",
   "execution_count": 41,
   "metadata": {
    "ExecuteTime": {
     "end_time": "2021-11-11T16:41:32.493655Z",
     "start_time": "2021-11-11T16:39:50.260744Z"
    },
    "scrolled": true
   },
   "outputs": [
    {
     "name": "stderr",
     "output_type": "stream",
     "text": [
      "GPU available: True, used: False\n",
      "TPU available: False, using: 0 TPU cores\n",
      "IPU available: False, using: 0 IPUs\n",
      "\n",
      "  | Name        | Type       | Params\n",
      "-------------------------------------------\n",
      "0 | encoder     | Sequential | 2.2 K \n",
      "1 | mu_encoder  | Sequential | 33    \n",
      "2 | cov_encoder | Sequential | 33    \n",
      "3 | decoder     | Sequential | 1.2 K \n",
      "-------------------------------------------\n",
      "3.4 K     Trainable params\n",
      "0         Non-trainable params\n",
      "3.4 K     Total params\n",
      "0.014     Total estimated model params size (MB)\n"
     ]
    },
    {
     "data": {
      "application/vnd.jupyter.widget-view+json": {
       "model_id": "22266137e1a24e2f8e60645ce5b9bb23",
       "version_major": 2,
       "version_minor": 0
      },
      "text/plain": [
       "HBox(children=(FloatProgress(value=1.0, bar_style='info', description='Training', layout=Layout(flex='2'), max…"
      ]
     },
     "metadata": {},
     "output_type": "display_data"
    },
    {
     "name": "stdout",
     "output_type": "stream",
     "text": [
      "\n"
     ]
    }
   ],
   "source": [
    "trainer = pl.Trainer(max_epochs=100, )\n",
    "trainer.fit(puvae, dl)"
   ]
  },
  {
   "cell_type": "code",
   "execution_count": 43,
   "metadata": {
    "ExecuteTime": {
     "end_time": "2021-11-11T16:42:25.645263Z",
     "start_time": "2021-11-11T16:42:25.636557Z"
    },
    "scrolled": true
   },
   "outputs": [],
   "source": [
    "zPrime,xHat = puvae(dl.dataset.tensors[1])"
   ]
  },
  {
   "cell_type": "code",
   "execution_count": 44,
   "metadata": {
    "ExecuteTime": {
     "end_time": "2021-11-11T16:42:26.960673Z",
     "start_time": "2021-11-11T16:42:26.802864Z"
    }
   },
   "outputs": [
    {
     "data": {
      "text/plain": [
       "(array([6.000e+00, 3.000e+00, 3.000e+00, 2.200e+01, 3.080e+02, 2.231e+03,\n",
       "        4.284e+03, 2.625e+03, 4.850e+02, 3.300e+01]),\n",
       " array([-612.2148 , -610.9559 , -609.69696, -608.43805, -607.17914,\n",
       "        -605.9203 , -604.6614 , -603.40247, -602.14355, -600.88464,\n",
       "        -599.62573], dtype=float32),\n",
       " <a list of 10 Patch objects>)"
      ]
     },
     "execution_count": 44,
     "metadata": {},
     "output_type": "execute_result"
    },
    {
     "data": {
      "image/png": "[encoded data removed]",
      "text/plain": [
       "<Figure size 432x288 with 1 Axes>"
      ]
     },
     "metadata": {
      "needs_background": "light"
     },
     "output_type": "display_data"
    }
   ],
   "source": [
    "plt.hist(zPrime.detach().numpy().ravel())"
   ]
  },
  {
   "cell_type": "code",
   "execution_count": 45,
   "metadata": {
    "ExecuteTime": {
     "end_time": "2021-11-11T16:42:30.362852Z",
     "start_time": "2021-11-11T16:42:30.200436Z"
    }
   },
   "outputs": [
    {
     "data": {
      "text/plain": [
       "(array([3.200e+01, 4.860e+02, 2.625e+03, 4.284e+03, 2.231e+03, 3.080e+02,\n",
       "        2.200e+01, 3.000e+00, 3.000e+00, 6.000e+00]),\n",
       " array([35.770107, 35.845406, 35.9207  , 35.996   , 36.071297, 36.14659 ,\n",
       "        36.22189 , 36.297188, 36.372486, 36.44778 , 36.52308 ],\n",
       "       dtype=float32),\n",
       " <a list of 10 Patch objects>)"
      ]
     },
     "execution_count": 45,
     "metadata": {},
     "output_type": "execute_result"
    },
    {
     "data": {
      "image/png": "[encoded data removed]",
      "text/plain": [
       "<Figure size 432x288 with 1 Axes>"
      ]
     },
     "metadata": {
      "needs_background": "light"
     },
     "output_type": "display_data"
    }
   ],
   "source": [
    "plt.hist(xHat.detach().numpy().ravel())"
   ]
  },
  {
   "cell_type": "code",
   "execution_count": null,
   "metadata": {},
   "outputs": [],
   "source": []
  }
 ],
 "metadata": {
  "kernelspec": {
   "display_name": "base",
   "language": "python",
   "name": "base"
  },
  "language_info": {
   "codemirror_mode": {
    "name": "ipython",
    "version": 3
   },
   "file_extension": ".py",
   "mimetype": "text/x-python",
   "name": "python",
   "nbconvert_exporter": "python",
   "pygments_lexer": "ipython3",
   "version": "3.7.6"
  }
 },
 "nbformat": 4,
 "nbformat_minor": 4
}
