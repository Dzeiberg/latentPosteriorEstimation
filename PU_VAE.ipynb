{
 "cells": [
  {
   "cell_type": "code",
   "execution_count": 2,
   "metadata": {
    "ExecuteTime": {
     "end_time": "2021-11-09T14:57:13.279779Z",
     "start_time": "2021-11-09T14:57:13.042338Z"
    }
   },
   "outputs": [],
   "source": [
    "import os\n",
    "import torch\n",
    "from torch import nn\n",
    "import torch.nn.functional as F\n",
    "from torch.utils.data import DataLoader, random_split\n",
    "import pytorch_lightning as pl\n",
    "import scipy.stats as ss\n",
    "\n",
    "import numpy as np\n",
    "\n",
    "from tqdm.notebook import trange"
   ]
  },
  {
   "cell_type": "code",
   "execution_count": 149,
   "metadata": {
    "ExecuteTime": {
     "end_time": "2021-11-09T15:46:38.239166Z",
     "start_time": "2021-11-09T15:46:38.209110Z"
    }
   },
   "outputs": [],
   "source": [
    "class PUVAE(pl.LightningModule):\n",
    "    def __init__(self,input_dim, h_dim, z_dim,EMSTEPS=10):\n",
    "        super().__init__()\n",
    "        self.encoder = nn.Sequential(nn.Linear(input_dim, h_dim),nn.ReLU(),\n",
    "                                     nn.Linear(h_dim, h_dim),nn.ReLU(),\n",
    "                                     nn.Linear(h_dim, z_dim * 2))\n",
    "        self.decoder = nn.Sequential(nn.Linear(z_dim, h_dim), nn.ReLU(),\n",
    "                                     nn.Linear(h_dim, h_dim), nn.ReLU(),\n",
    "                                     nn.Linear(h_dim, input_dim))\n",
    "        self.pi = torch.ones(1) * .5\n",
    "        self.mu = torch.eye(z_dim) \n",
    "        self.z_dim = z_dim\n",
    "        self.EMSTEPS = EMSTEPS\n",
    "        \n",
    "        \n",
    "    def forward(self, x):\n",
    "        # in lightning, forward defines the prediction/inference actions\n",
    "        embedding = self.encoder(x)\n",
    "        return embedding\n",
    "\n",
    "    def training_step(self, batch, batch_idx):\n",
    "        # training_step defined the train loop.\n",
    "        # It is independent of forward\n",
    "        x, y = batch\n",
    "        N = x.shape[0]\n",
    "        x = x.view(x.size(0), -1)\n",
    "        z_1_2 = self.encoder(x)\n",
    "        z_1 = z_1_2[...,:self.z_dim] + torch.normal(torch.zeros((N,self.z_dim)),1)\n",
    "        z_2 = z_1_2[...,self.z_dim:] + torch.normal(torch.zeros((N,self.z_dim)),1)\n",
    "        z = self.pi * z_1 + (1 - self.pi) * z_2\n",
    "        zd = z.detach().numpy()\n",
    "        for em_step in trange(self.EMSTEPS,leave=False):\n",
    "            #################### E-STEP #######################################\n",
    "            gamma_1 = self.pi * ss.multivariate_normal.pdf(zd, mean=self.mu[0], cov=np.eye(self.z_dim))\n",
    "            gamma_2 = (1 - self.pi) * ss.multivariate_normal.pdf(zd, mean=self.mu[1], cov=np.eye(self.z_dim))\n",
    "            gamma_1_2 = gamma_1 + gamma_2\n",
    "            gamma_n_1 = gamma_1 / gamma_1_2\n",
    "            gamma_n_2 = gamma_2 / gamma_1_2\n",
    "            ################### M-STEP #########################################\n",
    "            n1 = gamma_n_1.sum()\n",
    "            n2 = gamma_n_2.sum()\n",
    "            self.mu[0] = np.dot(gamma_n_1.float(), zd.squeeze()) / n1\n",
    "            self.mu[1] = np.dot(gamma_n_2.float(), zd.squeeze()) / n2\n",
    "            self.pi = n1 / (n1 + n2)\n",
    "        \n",
    "            \n",
    "    def configure_optimizers(self):\n",
    "        optimizer = torch.optim.Adam(self.parameters(), lr=1e-3)\n",
    "        return optimizer"
   ]
  },
  {
   "cell_type": "code",
   "execution_count": 151,
   "metadata": {
    "ExecuteTime": {
     "end_time": "2021-11-09T15:46:38.505676Z",
     "start_time": "2021-11-09T15:46:38.498219Z"
    }
   },
   "outputs": [],
   "source": [
    "puvae = PUVAE(16,32,2)"
   ]
  },
  {
   "cell_type": "code",
   "execution_count": 152,
   "metadata": {
    "ExecuteTime": {
     "end_time": "2021-11-09T15:46:38.890086Z",
     "start_time": "2021-11-09T15:46:38.838592Z"
    }
   },
   "outputs": [
    {
     "data": {
      "application/vnd.jupyter.widget-view+json": {
       "model_id": "",
       "version_major": 2,
       "version_minor": 0
      },
      "text/plain": [
       "HBox(children=(FloatProgress(value=0.0, max=10.0), HTML(value='')))"
      ]
     },
     "metadata": {},
     "output_type": "display_data"
    },
    {
     "name": "stdout",
     "output_type": "stream",
     "text": [
      "\r"
     ]
    }
   ],
   "source": [
    "puvae.training_step((torch.Tensor(np.random.multivariate_normal(np.zeros(16),np.eye(16),size=100)), None),0)"
   ]
  },
  {
   "cell_type": "code",
   "execution_count": null,
   "metadata": {},
   "outputs": [],
   "source": []
  },
  {
   "cell_type": "code",
   "execution_count": null,
   "metadata": {},
   "outputs": [],
   "source": []
  }
 ],
 "metadata": {
  "kernelspec": {
   "display_name": "base",
   "language": "python",
   "name": "base"
  },
  "language_info": {
   "codemirror_mode": {
    "name": "ipython",
    "version": 3
   },
   "file_extension": ".py",
   "mimetype": "text/x-python",
   "name": "python",
   "nbconvert_exporter": "python",
   "pygments_lexer": "ipython3",
   "version": "3.7.6"
  }
 },
 "nbformat": 4,
 "nbformat_minor": 4
}
