{
 "cells": [
  {
   "cell_type": "code",
   "execution_count": 1,
   "metadata": {
    "ExecuteTime": {
     "end_time": "2021-11-09T18:53:10.234210Z",
     "start_time": "2021-11-09T18:53:08.605660Z"
    }
   },
   "outputs": [],
   "source": [
    "import os\n",
    "import torch\n",
    "from torch import nn\n",
    "import torch.nn.functional as F\n",
    "from torch.utils.data import DataLoader, random_split, TensorDataset\n",
    "import pytorch_lightning as pl\n",
    "import scipy.stats as ss\n",
    "\n",
    "import numpy as np\n",
    "\n",
    "from tqdm.notebook import trange\n",
    "\n",
    "import matplotlib.pyplot as plt"
   ]
  },
  {
   "cell_type": "markdown",
   "metadata": {},
   "source": [
    "# Data Generating Process"
   ]
  },
  {
   "cell_type": "markdown",
   "metadata": {},
   "source": [
    "fix parameters "
   ]
  },
  {
   "cell_type": "code",
   "execution_count": 144,
   "metadata": {
    "ExecuteTime": {
     "end_time": "2021-11-09T20:19:44.743141Z",
     "start_time": "2021-11-09T20:19:44.737160Z"
    }
   },
   "outputs": [],
   "source": [
    "def bootstrap(x,size):\n",
    "    indices = np.random.choice(np.arange(len(x)),size)\n",
    "    return x[indices]"
   ]
  },
  {
   "cell_type": "code",
   "execution_count": 27,
   "metadata": {
    "ExecuteTime": {
     "end_time": "2021-11-09T19:15:23.788368Z",
     "start_time": "2021-11-09T19:15:23.769196Z"
    }
   },
   "outputs": [],
   "source": [
    "DIM = 1\n",
    "OFFSET= 2\n",
    "NUM_UNLABELED = 10000\n",
    "NUM_LABELED = 1000\n",
    "COV = 1\n",
    "ZCOV= np.eye(DIM)\n",
    "\n",
    "# UNLABELED\n",
    "pi = .5\n",
    "mu_1,mu_2 = np.zeros(DIM) + OFFSET, np.zeros(DIM) - OFFSET\n",
    "y = np.random.binomial(1,pi,size=NUM_UNLABELED).astype(bool)\n",
    "z = np.zeros((NUM_UNLABELED,DIM))\n",
    "z[y] = np.random.multivariate_normal(mu_1,ZCOV,size=y.sum())\n",
    "z[~y] = np.random.multivariate_normal(mu_2,ZCOV,size=y.shape[0] - y.sum())\n",
    "x = torch.normal(torch.Tensor(z),COV)\n",
    "# POSITIVE\n",
    "zp = np.random.multivariate_normal(mu_1,np.eye(DIM),size=NUM_LABELED)\n",
    "xp = bootstrap(torch.normal(torch.Tensor(zp),1),NUM_UNLABELED)"
   ]
  },
  {
   "cell_type": "code",
   "execution_count": 28,
   "metadata": {
    "ExecuteTime": {
     "end_time": "2021-11-09T19:15:25.051363Z",
     "start_time": "2021-11-09T19:15:24.851898Z"
    }
   },
   "outputs": [
    {
     "data": {
      "text/plain": [
       "(array([0.00737262, 0.00737262, 0.02484845, 0.04450876, 0.04314347,\n",
       "        0.10731253, 0.12588061, 0.13134181, 0.18622683, 0.25967998,\n",
       "        0.29545073, 0.27196767, 0.28616679, 0.23373928, 0.20834471,\n",
       "        0.11222755, 0.13680302, 0.09092901, 0.06771877, 0.04996996,\n",
       "        0.01829501, 0.0150183 , 0.        , 0.00245754, 0.00382284]),\n",
       " array([-2.2776542 , -1.9114342 , -1.545214  , -1.178994  , -0.812774  ,\n",
       "        -0.446554  , -0.08033396,  0.28588608,  0.6521061 ,  1.0183262 ,\n",
       "         1.3845462 ,  1.7507663 ,  2.1169863 ,  2.4832063 ,  2.8494263 ,\n",
       "         3.2156463 ,  3.5818665 ,  3.9480865 ,  4.3143063 ,  4.6805267 ,\n",
       "         5.0467467 ,  5.4129667 ,  5.7791867 ,  6.1454067 ,  6.5116267 ,\n",
       "         6.8778467 ], dtype=float32),\n",
       " <a list of 25 Patch objects>)"
      ]
     },
     "execution_count": 28,
     "metadata": {},
     "output_type": "execute_result"
    },
    {
     "data": {
      "image/png": "[encoded data removed]",
      "text/plain": [
       "<Figure size 432x288 with 1 Axes>"
      ]
     },
     "metadata": {
      "needs_background": "light"
     },
     "output_type": "display_data"
    }
   ],
   "source": [
    "plt.hist(x.ravel(),bins=25,density=True)\n",
    "plt.hist(xp.ravel(),bins=25,density=True,alpha=.5)\n",
    "# plt.hist(x[~y].ravel(),bins=25,alpha=.5)"
   ]
  },
  {
   "cell_type": "code",
   "execution_count": 148,
   "metadata": {
    "ExecuteTime": {
     "end_time": "2021-11-09T20:21:20.645645Z",
     "start_time": "2021-11-09T20:21:20.606001Z"
    }
   },
   "outputs": [],
   "source": [
    "class PUVAE(pl.LightningModule):\n",
    "    def __init__(self,input_dim, h_dim, z_dim,COV,ZCOV,EMSTEPS=10,JOINT_EM=True):\n",
    "        super().__init__()\n",
    "        self.encoder = nn.Sequential(nn.Linear(input_dim, h_dim),nn.ReLU(),\n",
    "                                     nn.Linear(h_dim, h_dim),nn.ReLU(),\n",
    "                                     nn.Linear(h_dim, h_dim),nn.ReLU())\n",
    "        self.mu_encoder = nn.Sequential(nn.Linear(h_dim, z_dim))\n",
    "        self.cov_encoder = nn.Sequential(nn.Linear(h_dim, z_dim))\n",
    "        self.decoder = nn.Sequential(nn.Linear(z_dim, h_dim), nn.ReLU(),\n",
    "                                     nn.Linear(h_dim, h_dim), nn.ReLU(),\n",
    "                                     nn.Linear(h_dim, input_dim))\n",
    "        self.pi = torch.ones(1) * .5\n",
    "        self.mu = torch.eye(z_dim) \n",
    "        self.z_dim = z_dim\n",
    "        self.EMSTEPS = EMSTEPS\n",
    "        self.COV = COV\n",
    "        self.ZCOV = ZCOV\n",
    "        self.JOINT_EM= JOINT_EM\n",
    "        \n",
    "    def forward(self, x):\n",
    "        N = x.shape[0]\n",
    "        epsilon = self.encoder(x)\n",
    "        z_1 = z_1_2[...,:self.z_dim] + torch.normal(torch.zeros((N,self.z_dim)),1)\n",
    "        z_2 = z_1_2[...,self.z_dim:] + torch.normal(torch.zeros((N,self.z_dim)),1)\n",
    "        z = self.pi * z_1 + (1 - self.pi) * z_2\n",
    "        return z\n",
    "\n",
    "    def training_step(self, batch, batch_idx):\n",
    "        # separate positive and unlabeled\n",
    "        xP, x = batch\n",
    "        ############## UNSUPERVISED STEPS #########\n",
    "        N = x.shape[0]\n",
    "        ######### Sample from q(z|x) ############\n",
    "        h = self.encoder(x)\n",
    "        mu = self.mu_encoder(h)\n",
    "        sigma = torch.exp(self.cov_encoder(h))\n",
    "        eps = torch.randn(*mu.shape)\n",
    "        z = eps * sigma + mu\n",
    "        ######### Sample from q(z|xp) ##########\n",
    "        hP = self.encoder(xP)\n",
    "        muP = self.mu_encoder(hP)\n",
    "        sigmaP = torch.exp(self.cov_encoder(hP))\n",
    "        epsP = torch.randn(*muP.shape)\n",
    "        zP = epsP * sigmaP + muP\n",
    "        ####### Calculate q(z|x) ###############\n",
    "        n = torch.distributions.Normal(mu,sigma)\n",
    "        qzx = n.log_prob(z).sum(-1)\n",
    "        ####### Calculate q(zP|xP) ###############\n",
    "        nP = torch.distributions.Normal(muP,sigma)\n",
    "        qzPxP = nP.log_prob(zP).sum(-1)\n",
    "        ###### Calculate p(x|z) ###############\n",
    "        xHat = self.decoder(z)\n",
    "        n1 = torch.distributions.Normal(xHat, self.COV)\n",
    "        pxz = n1.log_prob(xHat).sum(-1)\n",
    "        ###### Calculate p(xP|zP) ###############\n",
    "        xPHat = self.decoder(zP)\n",
    "        n1P = torch.distributions.Normal(xPHat, self.COV)\n",
    "        pxPzP = n1.log_prob(xPHat).sum(-1)\n",
    "        ########## EM-Steps ###################\n",
    "        # two options either include labeled data (and fix gammas) or exclude as is done below\n",
    "        delta = 1\n",
    "        if self.JOINT_EM:\n",
    "            zd = torch.concat([z, zP]).detach()\n",
    "        else:\n",
    "            zd = z.detach()\n",
    "        for em_step in range(self.EMSTEPS):\n",
    "            #################### E-STEP #######################################\n",
    "            m0 = torch.distributions.Normal(self.mu[0],self.ZCOV)\n",
    "            m1 = torch.distributions.Normal(self.mu[1],self.ZCOV)\n",
    "            gamma_0 = (torch.log((1-self.pi)) + m0.log_prob(zd)).sum(-1)\n",
    "            gamma_1 = (torch.log(self.pi) + m1.log_prob(zd)).sum(-1)\n",
    "            gamma_0_1 = torch.softmax(torch.stack([gamma_0,gamma_1]),0)\n",
    "            gamma_n_0 = gamma_0_1[0]\n",
    "            gamma_n_1 = gamma_0_1[1]\n",
    "            if self.JOINT_EM:\n",
    "                gamma_n_0[-zP.shape[0]:] = 0\n",
    "                gamma_n_1[-zP.shape[0]:] = 1\n",
    "            ################### M-STEP #########################################\n",
    "            n0 = gamma_n_0.sum()\n",
    "            n1 = gamma_n_1.sum()\n",
    "            self.mu[0] = (gamma_n_0[...,None] * zd).sum(0) / (n0 + delta)\n",
    "            self.mu[1] = (gamma_n_1[...,None] * zd).sum(0) / (n1 + delta)\n",
    "            self.pi = n1 / (n0 + n1)\n",
    "#         print(self.mu)\n",
    "        print(self.pi)\n",
    "        ########### Calculate p(z) ###########################################\n",
    "        p0 = torch.distributions.Normal(self.mu[0],self.ZCOV)\n",
    "        p1 = torch.distributions.Normal(self.mu[1],self.ZCOV)\n",
    "        pz = torch.logsumexp(torch.stack([(torch.log(self.pi) + p1.log_prob(z)).sum(-1),\n",
    "                                          (torch.log(1 - self.pi) + p0.log_prob(z)).sum(-1)]),0)\n",
    "        ############ Calculate p(zP) #######################################\n",
    "        pzP = (torch.log(self.pi) + p1.log_prob(zP)).sum(-1)\n",
    "        ############ Calculate ELBO-U #########################################\n",
    "        elboU = (pxz + pz - qzx).mean()\n",
    "        ############## Calculate ELBO-P ###########################\n",
    "        elboP = (pxPzP + pzP - qzPxP).mean()\n",
    "        loss = -(elboU + elboP)\n",
    "        ############### Total Loss ############\n",
    "\n",
    "        return loss\n",
    "    def configure_optimizers(self):\n",
    "        optimizer = torch.optim.Adam(self.parameters(), lr=1e-3)\n",
    "        return optimizer"
   ]
  },
  {
   "cell_type": "code",
   "execution_count": 149,
   "metadata": {
    "ExecuteTime": {
     "end_time": "2021-11-09T20:21:21.276319Z",
     "start_time": "2021-11-09T20:21:21.265609Z"
    }
   },
   "outputs": [],
   "source": [
    "puvae = PUVAE(DIM,32,2,COV=COV,ZCOV=torch.Tensor(ZCOV),EMSTEPS=100,JOINT_EM=True)"
   ]
  },
  {
   "cell_type": "code",
   "execution_count": 150,
   "metadata": {
    "ExecuteTime": {
     "end_time": "2021-11-09T20:21:21.780794Z",
     "start_time": "2021-11-09T20:21:21.775484Z"
    }
   },
   "outputs": [],
   "source": [
    "dl = DataLoader(TensorDataset(xp, x),batch_size=128)"
   ]
  },
  {
   "cell_type": "code",
   "execution_count": 151,
   "metadata": {
    "ExecuteTime": {
     "end_time": "2021-11-09T20:21:34.166076Z",
     "start_time": "2021-11-09T20:21:22.390100Z"
    },
    "scrolled": true
   },
   "outputs": [
    {
     "name": "stderr",
     "output_type": "stream",
     "text": [
      "GPU available: True, used: False\n",
      "TPU available: False, using: 0 TPU cores\n",
      "IPU available: False, using: 0 IPUs\n",
      "\n",
      "  | Name        | Type       | Params\n",
      "-------------------------------------------\n",
      "0 | encoder     | Sequential | 2.2 K \n",
      "1 | mu_encoder  | Sequential | 66    \n",
      "2 | cov_encoder | Sequential | 66    \n",
      "3 | decoder     | Sequential | 1.2 K \n",
      "-------------------------------------------\n",
      "3.5 K     Trainable params\n",
      "0         Non-trainable params\n",
      "3.5 K     Total params\n",
      "0.014     Total estimated model params size (MB)\n"
     ]
    },
    {
     "data": {
      "application/vnd.jupyter.widget-view+json": {
       "model_id": "4d592bd96e474ded9e1b86f0671ee923",
       "version_major": 2,
       "version_minor": 0
      },
      "text/plain": [
       "HBox(children=(FloatProgress(value=1.0, bar_style='info', description='Training', layout=Layout(flex='2'), max…"
      ]
     },
     "metadata": {},
     "output_type": "display_data"
    },
    {
     "name": "stdout",
     "output_type": "stream",
     "text": [
      "tensor(1.)\n",
      "tensor(1.)\n",
      "tensor(1.)\n",
      "tensor(1.)\n",
      "tensor(1.)\n",
      "tensor(1.)\n",
      "tensor(1.)\n",
      "tensor(1.)\n",
      "tensor(1.)\n",
      "tensor(1.)\n",
      "tensor(1.)\n",
      "tensor(1.)\n",
      "tensor(1.)\n",
      "tensor(1.)\n",
      "tensor(1.)\n",
      "tensor(1.)\n",
      "tensor(1.)\n",
      "tensor(1.)\n",
      "tensor(1.)\n",
      "tensor(1.)\n",
      "tensor(1.)\n",
      "tensor(1.)\n",
      "tensor(1.)\n",
      "tensor(1.)\n",
      "tensor(1.)\n",
      "tensor(1.)\n",
      "tensor(1.)\n",
      "tensor(1.)\n",
      "tensor(1.)\n",
      "tensor(1.)\n",
      "tensor(1.)\n",
      "tensor(1.)\n",
      "tensor(1.)\n",
      "tensor(1.)\n",
      "tensor(1.)\n",
      "tensor(1.)\n",
      "tensor(1.)\n",
      "tensor(1.)\n",
      "tensor(1.)\n",
      "tensor(1.)\n",
      "tensor(1.)\n",
      "tensor(1.)\n",
      "tensor(1.)\n",
      "tensor(1.)\n",
      "tensor(1.)\n",
      "tensor(1.)\n",
      "tensor(1.)\n",
      "tensor(1.)\n",
      "tensor(1.)\n",
      "tensor(1.)\n",
      "tensor(1.)\n",
      "tensor(1.)\n",
      "tensor(1.)\n",
      "tensor(1.)\n",
      "tensor(1.)\n",
      "tensor(1.)\n",
      "tensor(1.)\n",
      "tensor(1.)\n",
      "tensor(1.)\n",
      "tensor(1.)\n",
      "tensor(1.)\n",
      "tensor(1.)\n",
      "tensor(1.)\n",
      "tensor(1.)\n",
      "tensor(1.)\n",
      "tensor(1.)\n",
      "tensor(1.)\n",
      "tensor(1.)\n",
      "tensor(1.)\n",
      "tensor(1.)\n",
      "tensor(1.)\n",
      "tensor(1.)\n",
      "tensor(1.)\n",
      "tensor(1.)\n",
      "tensor(1.)\n",
      "tensor(1.)\n",
      "tensor(1.)\n",
      "tensor(1.)\n",
      "tensor(1.)\n",
      "tensor(1.)\n",
      "tensor(1.)\n",
      "tensor(1.)\n",
      "tensor(1.)\n",
      "tensor(1.)\n",
      "tensor(1.)\n",
      "tensor(1.)\n",
      "tensor(1.)\n",
      "tensor(1.)\n",
      "tensor(1.)\n",
      "tensor(1.)\n",
      "tensor(1.)\n",
      "tensor(1.)\n",
      "tensor(1.)\n",
      "tensor(1.)\n",
      "tensor(1.)\n",
      "tensor(1.)\n",
      "tensor(1.)\n",
      "tensor(1.)\n",
      "tensor(1.)\n",
      "tensor(1.)\n",
      "tensor(1.)\n",
      "tensor(1.)\n",
      "tensor(1.)\n",
      "tensor(1.)\n",
      "tensor(1.)\n",
      "tensor(1.)\n",
      "tensor(1.)\n",
      "tensor(1.)\n",
      "tensor(1.)\n",
      "tensor(1.)\n",
      "tensor(1.)\n",
      "tensor(1.)\n",
      "tensor(1.)\n",
      "tensor(1.)\n",
      "tensor(1.)\n",
      "tensor(1.)\n",
      "tensor(1.)\n",
      "tensor(1.)\n",
      "tensor(1.)\n",
      "tensor(1.)\n",
      "tensor(1.)\n",
      "tensor(1.)\n",
      "tensor(1.)\n",
      "tensor(1.)\n",
      "tensor(1.)\n",
      "tensor(1.)\n",
      "tensor(1.)\n",
      "tensor(1.)\n",
      "tensor(1.)\n",
      "tensor(1.)\n",
      "tensor(1.)\n",
      "tensor(1.)\n",
      "tensor(1.)\n",
      "tensor(1.)\n",
      "tensor(1.)\n",
      "tensor(1.)\n",
      "tensor(1.)\n",
      "tensor(1.)\n",
      "tensor(1.)\n",
      "tensor(1.)\n",
      "tensor(1.)\n",
      "tensor(1.)\n",
      "tensor(1.)\n",
      "tensor(1.)\n",
      "tensor(1.)\n",
      "tensor(1.)\n",
      "tensor(1.)\n",
      "tensor(1.)\n",
      "tensor(1.)\n",
      "tensor(1.)\n",
      "tensor(1.)\n",
      "tensor(1.)\n",
      "tensor(1.)\n",
      "tensor(1.)\n",
      "tensor(1.)\n",
      "tensor(1.)\n",
      "tensor(1.)\n",
      "tensor(1.)\n",
      "tensor(1.)\n",
      "tensor(1.)\n",
      "tensor(1.)\n",
      "tensor(1.)\n",
      "tensor(1.)\n",
      "tensor(1.)\n",
      "tensor(1.)\n",
      "tensor(1.)\n",
      "tensor(1.)\n",
      "tensor(1.)\n",
      "tensor(1.)\n",
      "tensor(1.)\n",
      "tensor(1.)\n",
      "tensor(1.)\n",
      "tensor(1.)\n",
      "tensor(1.)\n",
      "tensor(1.)\n",
      "tensor(1.)\n",
      "tensor(1.)\n",
      "tensor(1.)\n",
      "tensor(1.)\n",
      "tensor(1.)\n",
      "tensor(1.)\n",
      "tensor(1.)\n",
      "tensor(1.)\n",
      "tensor(1.)\n",
      "tensor(1.)\n",
      "tensor(1.)\n",
      "tensor(1.)\n",
      "tensor(1.)\n"
     ]
    }
   ],
   "source": [
    "trainer = pl.Trainer(max_epochs=100, )\n",
    "trainer.fit(puvae, dl)"
   ]
  },
  {
   "cell_type": "code",
   "execution_count": 117,
   "metadata": {
    "ExecuteTime": {
     "end_time": "2021-11-09T20:13:15.175386Z",
     "start_time": "2021-11-09T20:13:15.167615Z"
    }
   },
   "outputs": [
    {
     "data": {
      "text/plain": [
       "tensor([[ 0.3041, -0.1140],\n",
       "        [ 0.0000,  1.0000]])"
      ]
     },
     "execution_count": 117,
     "metadata": {},
     "output_type": "execute_result"
    }
   ],
   "source": [
    "puvae.mu"
   ]
  },
  {
   "cell_type": "code",
   "execution_count": 57,
   "metadata": {
    "ExecuteTime": {
     "end_time": "2021-11-09T19:48:09.652670Z",
     "start_time": "2021-11-09T19:48:09.644740Z"
    }
   },
   "outputs": [
    {
     "data": {
      "text/plain": [
       "(tensor(nan, dtype=torch.float64),\n",
       " tensor([[nan, nan],\n",
       "         [nan, nan]]))"
      ]
     },
     "execution_count": 57,
     "metadata": {},
     "output_type": "execute_result"
    }
   ],
   "source": [
    "puvae.pi, puvae.mu"
   ]
  },
  {
   "cell_type": "code",
   "execution_count": 265,
   "metadata": {
    "ExecuteTime": {
     "end_time": "2021-11-09T18:16:21.106682Z",
     "start_time": "2021-11-09T18:16:20.432363Z"
    }
   },
   "outputs": [
    {
     "name": "stdout",
     "output_type": "stream",
     "text": [
      "\n",
      "\n",
      "\n",
      "\n"
     ]
    },
    {
     "data": {
      "text/plain": [
       "<matplotlib.collections.PathCollection at 0x7f9c573c8d10>"
      ]
     },
     "execution_count": 265,
     "metadata": {},
     "output_type": "execute_result"
    },
    {
     "data": {
      "image/png": "[encoded data removed]",
      "text/plain": [
       "<Figure size 432x288 with 1 Axes>"
      ]
     },
     "metadata": {
      "needs_background": "light"
     },
     "output_type": "display_data"
    }
   ],
   "source": [
    "plt.scatter(* puvae(inputs).T.detach())"
   ]
  },
  {
   "cell_type": "code",
   "execution_count": null,
   "metadata": {},
   "outputs": [],
   "source": []
  }
 ],
 "metadata": {
  "kernelspec": {
   "display_name": "base",
   "language": "python",
   "name": "base"
  },
  "language_info": {
   "codemirror_mode": {
    "name": "ipython",
    "version": 3
   },
   "file_extension": ".py",
   "mimetype": "text/x-python",
   "name": "python",
   "nbconvert_exporter": "python",
   "pygments_lexer": "ipython3",
   "version": "3.7.6"
  }
 },
 "nbformat": 4,
 "nbformat_minor": 4
}
