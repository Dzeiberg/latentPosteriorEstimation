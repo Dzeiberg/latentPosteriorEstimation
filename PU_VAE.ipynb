{
 "cells": [
  {
   "cell_type": "code",
   "execution_count": 2,
   "metadata": {
    "ExecuteTime": {
     "end_time": "2021-11-11T15:47:27.337355Z",
     "start_time": "2021-11-11T15:47:25.753832Z"
    }
   },
   "outputs": [],
   "source": [
    "import os\n",
    "import torch\n",
    "from torch import nn\n",
    "import torch.nn.functional as F\n",
    "from torch.utils.data import DataLoader, random_split, TensorDataset\n",
    "import pytorch_lightning as pl\n",
    "import scipy.stats as ss\n",
    "\n",
    "import numpy as np\n",
    "\n",
    "from tqdm.notebook import trange\n",
    "\n",
    "import matplotlib.pyplot as plt"
   ]
  },
  {
   "cell_type": "markdown",
   "metadata": {},
   "source": [
    "# Data Generating Process"
   ]
  },
  {
   "cell_type": "markdown",
   "metadata": {},
   "source": [
    "fix parameters "
   ]
  },
  {
   "cell_type": "code",
   "execution_count": 3,
   "metadata": {
    "ExecuteTime": {
     "end_time": "2021-11-11T15:47:29.897254Z",
     "start_time": "2021-11-11T15:47:29.891162Z"
    }
   },
   "outputs": [],
   "source": [
    "def bootstrap(x,size):\n",
    "    indices = np.random.choice(np.arange(len(x)),size)\n",
    "    return x[indices]"
   ]
  },
  {
   "cell_type": "code",
   "execution_count": 4,
   "metadata": {
    "ExecuteTime": {
     "end_time": "2021-11-11T15:47:30.398987Z",
     "start_time": "2021-11-11T15:47:30.341894Z"
    }
   },
   "outputs": [],
   "source": [
    "DIM = 1\n",
    "OFFSET= 2\n",
    "NUM_UNLABELED = 10000\n",
    "NUM_LABELED = 1000\n",
    "COV = 1\n",
    "ZCOV= np.eye(DIM)\n",
    "\n",
    "# UNLABELED\n",
    "pi = .5\n",
    "mu_1,mu_2 = np.zeros(DIM) + OFFSET, np.zeros(DIM) - OFFSET\n",
    "y = np.random.binomial(1,pi,size=NUM_UNLABELED).astype(bool)\n",
    "z = np.zeros((NUM_UNLABELED,DIM))\n",
    "z[y] = np.random.multivariate_normal(mu_1,ZCOV,size=y.sum())\n",
    "z[~y] = np.random.multivariate_normal(mu_2,ZCOV,size=y.shape[0] - y.sum())\n",
    "x = torch.normal(torch.Tensor(z),COV)\n",
    "# POSITIVE\n",
    "zp = np.random.multivariate_normal(mu_1,np.eye(DIM),size=NUM_LABELED)\n",
    "xp = bootstrap(torch.normal(torch.Tensor(zp),1),NUM_UNLABELED)"
   ]
  },
  {
   "cell_type": "code",
   "execution_count": 5,
   "metadata": {
    "ExecuteTime": {
     "end_time": "2021-11-11T15:47:30.916245Z",
     "start_time": "2021-11-11T15:47:30.656420Z"
    }
   },
   "outputs": [
    {
     "data": {
      "text/plain": [
       "(array([  22.,  274., 1272., 1967., 1614., 1786., 1913.,  961.,  178.,\n",
       "          13.]),\n",
       " array([-7.078888  , -5.6237173 , -4.168546  , -2.7133756 , -1.2582047 ,\n",
       "         0.19696617,  1.652137  ,  3.107308  ,  4.5624785 ,  6.0176497 ,\n",
       "         7.4728203 ], dtype=float32),\n",
       " <a list of 10 Patch objects>)"
      ]
     },
     "execution_count": 5,
     "metadata": {},
     "output_type": "execute_result"
    },
    {
     "data": {
      "image/png": "[encoded data removed]",
      "text/plain": [
       "<Figure size 432x288 with 2 Axes>"
      ]
     },
     "metadata": {
      "needs_background": "light"
     },
     "output_type": "display_data"
    }
   ],
   "source": [
    "fig,ax = plt.subplots(2,1)\n",
    "ax[0].hist(z)\n",
    "ax[1].hist(x.ravel())"
   ]
  },
  {
   "cell_type": "code",
   "execution_count": 6,
   "metadata": {
    "ExecuteTime": {
     "end_time": "2021-11-11T15:47:31.133925Z",
     "start_time": "2021-11-11T15:47:30.969644Z"
    }
   },
   "outputs": [
    {
     "data": {
      "text/plain": [
       "Text(0.5, 1.0, 'p(x|z)')"
      ]
     },
     "execution_count": 6,
     "metadata": {},
     "output_type": "execute_result"
    },
    {
     "data": {
      "image/png": "[encoded data removed]",
      "text/plain": [
       "<Figure size 432x288 with 1 Axes>"
      ]
     },
     "metadata": {
      "needs_background": "light"
     },
     "output_type": "display_data"
    }
   ],
   "source": [
    "plt.hist(torch.exp(torch.distributions.Normal(torch.Tensor(z),COV).log_prob(x)).numpy().ravel())\n",
    "plt.title(\"p(x|z)\")"
   ]
  },
  {
   "cell_type": "code",
   "execution_count": 7,
   "metadata": {
    "ExecuteTime": {
     "end_time": "2021-11-11T15:47:31.688888Z",
     "start_time": "2021-11-11T15:47:31.399125Z"
    }
   },
   "outputs": [
    {
     "data": {
      "text/plain": [
       "(array([0.00180834, 0.00206667, 0.00568335, 0.01911674, 0.03694181,\n",
       "        0.08344198, 0.09894205, 0.17618402, 0.16145893, 0.22552591,\n",
       "        0.27925937, 0.27021767, 0.23120927, 0.30328456, 0.21880908,\n",
       "        0.13820889, 0.11599206, 0.07207534, 0.0573502 , 0.03384178,\n",
       "        0.01291673, 0.0279001 , 0.00516668, 0.00180834, 0.00413335]),\n",
       " array([-2.5330255 , -2.1459303 , -1.758835  , -1.3717396 , -0.98464435,\n",
       "        -0.5975491 , -0.21045376,  0.17664152,  0.5637368 ,  0.9508321 ,\n",
       "         1.3379273 ,  1.7250227 ,  2.112118  ,  2.4992132 ,  2.8863084 ,\n",
       "         3.273404  ,  3.660499  ,  4.0475945 ,  4.4346895 ,  4.821785  ,\n",
       "         5.2088804 ,  5.5959754 ,  5.983071  ,  6.3701663 ,  6.7572613 ,\n",
       "         7.1443567 ], dtype=float32),\n",
       " <a list of 25 Patch objects>)"
      ]
     },
     "execution_count": 7,
     "metadata": {},
     "output_type": "execute_result"
    },
    {
     "data": {
      "image/png": "[encoded data removed]",
      "text/plain": [
       "<Figure size 432x288 with 1 Axes>"
      ]
     },
     "metadata": {
      "needs_background": "light"
     },
     "output_type": "display_data"
    }
   ],
   "source": [
    "plt.hist(x.ravel(),bins=25,density=True)\n",
    "plt.hist(xp.ravel(),bins=25,density=True,alpha=.5)\n",
    "# plt.hist(x[~y].ravel(),bins=25,alpha=.5)"
   ]
  },
  {
   "cell_type": "code",
   "execution_count": 8,
   "metadata": {
    "ExecuteTime": {
     "end_time": "2021-11-11T15:47:32.168993Z",
     "start_time": "2021-11-11T15:47:32.164271Z"
    }
   },
   "outputs": [],
   "source": [
    "import pdb"
   ]
  },
  {
   "cell_type": "code",
   "execution_count": 9,
   "metadata": {
    "ExecuteTime": {
     "end_time": "2021-11-11T15:47:32.889610Z",
     "start_time": "2021-11-11T15:47:32.884916Z"
    }
   },
   "outputs": [],
   "source": [
    "import numpy as np"
   ]
  },
  {
   "cell_type": "code",
   "execution_count": 30,
   "metadata": {
    "ExecuteTime": {
     "end_time": "2021-11-11T16:01:31.571397Z",
     "start_time": "2021-11-11T16:01:31.525664Z"
    }
   },
   "outputs": [],
   "source": [
    "elboUS = []\n",
    "elboPS = []\n",
    "PIS = []\n",
    "class PUVAE(pl.LightningModule):\n",
    "    def __init__(self,input_dim, h_dim, z_dim,COV,ZCOV,EMSTEPS=10,JOINT_EM=True):\n",
    "        super().__init__()\n",
    "        self.encoder = nn.Sequential(nn.Linear(input_dim, h_dim),nn.ReLU(),\n",
    "                                     nn.Linear(h_dim, h_dim),nn.ReLU(),\n",
    "                                     nn.Linear(h_dim, h_dim),nn.ReLU())\n",
    "        self.mu_encoder = nn.Sequential(nn.Linear(h_dim, z_dim))\n",
    "        self.cov_encoder = nn.Sequential(nn.Linear(h_dim, z_dim))\n",
    "        self.decoder = nn.Sequential(nn.Linear(z_dim, h_dim), nn.ReLU(),\n",
    "                                     nn.Linear(h_dim, h_dim), nn.ReLU(),\n",
    "                                     nn.Linear(h_dim, input_dim))\n",
    "        self.pi = torch.ones(1) * .5\n",
    "        self.mu = torch.randn(2,z_dim) \n",
    "        self.z_dim = z_dim\n",
    "        self.EMSTEPS = EMSTEPS\n",
    "        self.COV = COV\n",
    "        self.ZCOV = ZCOV\n",
    "        self.JOINT_EM= JOINT_EM\n",
    "\n",
    "    def forward(self, x):\n",
    "        N = x.shape[0]\n",
    "        epsilon = self.encoder(x)\n",
    "        z_1 = z_1_2[...,:self.z_dim] + torch.normal(torch.zeros((N,self.z_dim)),1)\n",
    "        z_2 = z_1_2[...,self.z_dim:] + torch.normal(torch.zeros((N,self.z_dim)),1)\n",
    "        z = self.pi * z_1 + (1 - self.pi) * z_2\n",
    "        return z\n",
    "\n",
    "    def training_step(self, batch, batch_idx):\n",
    "        # separate positive and unlabeled\n",
    "        xP, x = batch\n",
    "        ######### Sample from q(z|x) ############\n",
    "        h = self.encoder(x)\n",
    "        mu = self.mu_encoder(h)\n",
    "        sigma = torch.exp(self.cov_encoder(h))\n",
    "        eps = torch.randn(*mu.shape,)\n",
    "        z = eps * sigma + mu\n",
    "        ######### Sample from q(z|xp) ##########\n",
    "        hP = self.encoder(xP)\n",
    "        muP = self.mu_encoder(hP)\n",
    "        sigmaP = torch.exp(self.cov_encoder(hP))\n",
    "        epsP = torch.randn(*muP.shape)\n",
    "        zP = epsP * sigmaP + muP\n",
    "        ####### Calculate q(z|x) ###############\n",
    "        n = torch.distributions.Normal(mu,sigma)\n",
    "        qzx = n.log_prob(z).sum(-1)\n",
    "        ####### Calculate q(zP|xP) ###############\n",
    "        nP = torch.distributions.Normal(muP,sigmaP)\n",
    "        qzPxP = nP.log_prob(zP).sum(-1)\n",
    "        ###### Calculate p(x|z) ###############\n",
    "        xHat = self.decoder(z)\n",
    "        n1 = torch.distributions.Normal(xHat, self.COV)\n",
    "        pxz = n1.log_prob(xHat).sum(-1)\n",
    "        ###### Calculate p(xP|zP) ###############\n",
    "        xPHat = self.decoder(zP)\n",
    "        n1P = torch.distributions.Normal(xPHat, self.COV)\n",
    "        pxPzP = n1P.log_prob(xPHat).sum(-1)\n",
    "        ################# DEBUG PLOTS #################\n",
    "#         fig,ax = plt.subplots(2,1)\n",
    "# #         fig.set_facecolor(\"white\")\n",
    "#         ax[0].hist(z.detach().numpy().ravel())\n",
    "#         ax[1].hist(xHat.detach().numpy().ravel())\n",
    "#         fig.tight_layout()\n",
    "#         plt.show()\n",
    "        ########## EM-Steps ###################\n",
    "        # two options either include labeled data (and fix gammas) or exclude as is done below\n",
    "        delta = 1e-5\n",
    "        if self.JOINT_EM:\n",
    "            zd = torch.concat([z, zP]).detach()\n",
    "        else:\n",
    "            zd = z.detach()\n",
    "        for em_step in range(self.EMSTEPS):\n",
    "            #################### E-STEP #######################################\n",
    "            m0 = torch.distributions.Normal(self.mu[0],self.ZCOV)\n",
    "            m1 = torch.distributions.Normal(self.mu[1],self.ZCOV)\n",
    "            gamma_0 = torch.log((1-self.pi)) + m0.log_prob(zd).sum(-1)\n",
    "            gamma_1 = torch.log(self.pi) + m1.log_prob(zd).sum(-1)\n",
    "            gamma_0_1 = torch.softmax(torch.stack([gamma_0,gamma_1]),0)\n",
    "            gamma_n_0 = gamma_0_1[0]\n",
    "            gamma_n_1 = gamma_0_1[1]\n",
    "            if self.JOINT_EM:\n",
    "                gamma_n_0[-zP.shape[0]:] = 0\n",
    "                gamma_n_1[-zP.shape[0]:] = 1\n",
    "            ################### M-STEP #########################################\n",
    "            n0 = gamma_n_0.sum()\n",
    "            n1 = gamma_n_1.sum()\n",
    "            \n",
    "            self.mu[0] = (gamma_n_0[...,None] * zd).sum(0) / (n0 + delta)\n",
    "            self.mu[1] = (gamma_n_1[...,None] * zd).sum(0) / (n1 + delta)\n",
    "            self.pi = n1 / (n0 + n1)\n",
    "        self.log(\"pi\", self.pi)\n",
    "        PIS.append(self.pi)\n",
    "        ########### Calculate p(z) ###########################################\n",
    "        p0 = torch.distributions.Normal(self.mu[0],self.ZCOV)\n",
    "        p1 = torch.distributions.Normal(self.mu[1],self.ZCOV)\n",
    "        v0 = torch.log(1 - self.pi) + p0.log_prob(z).sum(-1)\n",
    "        v1 = torch.log(self.pi) + p1.log_prob(z).sum(-1)\n",
    "        pz = torch.logsumexp(torch.stack([v0,v1]),0)\n",
    "        \n",
    "        ############ Calculate p(zP) #######################################\n",
    "        pzP = torch.log(self.pi) + p1.log_prob(zP).sum(-1)\n",
    "        ############ Calculate ELBO-U #########################################\n",
    "        \n",
    "        elboU = (pxz + pz - qzx).mean()\n",
    "        self.log(\"elboU\",elboU)\n",
    "        elboUS.append(elboU.item())\n",
    "        ############## Calculate ELBO-P ###########################\n",
    "        elboP = (pxPzP + pzP - qzPxP).mean()\n",
    "        self.log(\"elboP\", elboP)\n",
    "        elboPS.append(elboP.item())\n",
    "        ############### Total Loss ############\n",
    "        loss = -(elboU + elboP)\n",
    "        tensorboard = self.logger.experiment\n",
    "        tensorboard.add_histogram(\"p(x|z)\",torch.exp(pxz).detach())\n",
    "        tensorboard.add_histogram(\"p(z)\",torch.exp(pz))\n",
    "        tensorboard.add_histogram(\"q(z|x)\",torch.exp(qzx))\n",
    "        tensorboard.add_histogram(\"$p(x_p|z_p)$\",torch.exp(pxPzP))\n",
    "        tensorboard.add_histogram(\"$p(z_p)$\",torch.exp(pzP))\n",
    "        tensorboard.add_histogram(\"$q(z_p|x_p)$\",torch.exp(qzPxP))\n",
    "        self.log(\"loss\",loss)\n",
    "        return loss\n",
    "    def configure_optimizers(self):\n",
    "        optimizer = torch.optim.Adam(self.parameters(), lr=1e-3)\n",
    "        return optimizer"
   ]
  },
  {
   "cell_type": "code",
   "execution_count": 31,
   "metadata": {
    "ExecuteTime": {
     "end_time": "2021-11-11T16:01:31.979969Z",
     "start_time": "2021-11-11T16:01:31.970823Z"
    }
   },
   "outputs": [],
   "source": [
    "puvae = PUVAE(DIM,32,1,COV=COV,ZCOV=torch.Tensor(ZCOV),EMSTEPS=100,JOINT_EM=False)"
   ]
  },
  {
   "cell_type": "code",
   "execution_count": 32,
   "metadata": {
    "ExecuteTime": {
     "end_time": "2021-11-11T16:01:32.223354Z",
     "start_time": "2021-11-11T16:01:32.218008Z"
    }
   },
   "outputs": [],
   "source": [
    "dl = DataLoader(TensorDataset(xp, x),batch_size=128,)"
   ]
  },
  {
   "cell_type": "code",
   "execution_count": null,
   "metadata": {
    "ExecuteTime": {
     "start_time": "2021-11-11T16:01:32.655Z"
    },
    "scrolled": true
   },
   "outputs": [
    {
     "name": "stderr",
     "output_type": "stream",
     "text": [
      "GPU available: True, used: False\n",
      "TPU available: False, using: 0 TPU cores\n",
      "IPU available: False, using: 0 IPUs\n",
      "\n",
      "  | Name        | Type       | Params\n",
      "-------------------------------------------\n",
      "0 | encoder     | Sequential | 2.2 K \n",
      "1 | mu_encoder  | Sequential | 33    \n",
      "2 | cov_encoder | Sequential | 33    \n",
      "3 | decoder     | Sequential | 1.2 K \n",
      "-------------------------------------------\n",
      "3.4 K     Trainable params\n",
      "0         Non-trainable params\n",
      "3.4 K     Total params\n",
      "0.014     Total estimated model params size (MB)\n"
     ]
    },
    {
     "data": {
      "application/vnd.jupyter.widget-view+json": {
       "model_id": "848f06f13bee4bb7b8fba158c2240ed9",
       "version_major": 2,
       "version_minor": 0
      },
      "text/plain": [
       "HBox(children=(FloatProgress(value=1.0, bar_style='info', description='Training', layout=Layout(flex='2'), max…"
      ]
     },
     "metadata": {},
     "output_type": "display_data"
    }
   ],
   "source": [
    "trainer = pl.Trainer(max_epochs=100, )\n",
    "trainer.fit(puvae, dl)"
   ]
  },
  {
   "cell_type": "code",
   "execution_count": 25,
   "metadata": {
    "ExecuteTime": {
     "end_time": "2021-11-11T15:57:17.426157Z",
     "start_time": "2021-11-11T15:57:17.421179Z"
    },
    "scrolled": true
   },
   "outputs": [
    {
     "data": {
      "text/plain": [
       "tensor([[  0.0000],\n",
       "        [454.5054]])"
      ]
     },
     "execution_count": 25,
     "metadata": {},
     "output_type": "execute_result"
    }
   ],
   "source": [
    "puvae.mu"
   ]
  },
  {
   "cell_type": "code",
   "execution_count": null,
   "metadata": {
    "ExecuteTime": {
     "start_time": "2021-11-11T15:39:55.285Z"
    },
    "scrolled": true
   },
   "outputs": [],
   "source": [
    "fig,ax= plt.subplots(3,1,figsize=(12,12))\n",
    "ax[0].plot(elboUS)\n",
    "ax[0].set_title(\"elbo-U\")\n",
    "ax[1].plot(elboPS)\n",
    "ax[1].set_title(\"elbo-P\")\n",
    "ax[2].plot(PIS)\n",
    "ax[2].set_title(\"Pi\")\n",
    "fig.tight_layout()"
   ]
  },
  {
   "cell_type": "code",
   "execution_count": null,
   "metadata": {},
   "outputs": [],
   "source": []
  }
 ],
 "metadata": {
  "kernelspec": {
   "display_name": "base",
   "language": "python",
   "name": "base"
  },
  "language_info": {
   "codemirror_mode": {
    "name": "ipython",
    "version": 3
   },
   "file_extension": ".py",
   "mimetype": "text/x-python",
   "name": "python",
   "nbconvert_exporter": "python",
   "pygments_lexer": "ipython3",
   "version": "3.7.6"
  }
 },
 "nbformat": 4,
 "nbformat_minor": 4
}
