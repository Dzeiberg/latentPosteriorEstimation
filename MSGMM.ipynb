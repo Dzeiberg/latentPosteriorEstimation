{
 "cells": [
  {
   "cell_type": "code",
   "execution_count": null,
   "id": "878f60a8",
   "metadata": {},
   "outputs": [],
   "source": [
    "# default_exp msgmm"
   ]
  },
  {
   "cell_type": "code",
   "execution_count": null,
   "id": "f8da6f62",
   "metadata": {},
   "outputs": [],
   "source": [
    "# export\n",
    "import numpy as np\n",
    "import tensorflow as tf\n",
    "import matplotlib.pyplot as plt\n",
    "import scipy.stats as ss"
   ]
  },
  {
   "cell_type": "code",
   "execution_count": null,
   "id": "0fcf2585",
   "metadata": {},
   "outputs": [],
   "source": [
    "nP = 1000\n",
    "nU = 5000\n",
    "m1 = np.zeros(2) + 1.5\n",
    "m0 = np.zeros(2) - 1.5\n",
    "s1 = np.eye(2)\n",
    "s0 = np.eye(2)\n",
    "f1 = ss.multivariate_normal(mean=m1,cov=s1)\n",
    "f0 = ss.multivariate_normal(mean=m0,cov=s0)\n",
    "xPos = f1.rvs(size=nP)\n",
    "alpha = .5\n",
    "xUnlabeled = np.concatenate([f1.rvs(size=int(alpha * nU)),\n",
    "                             f0.rvs(size=int((1-alpha) * nU))],axis=0)"
   ]
  },
  {
   "cell_type": "code",
   "execution_count": null,
   "id": "9722e6e9",
   "metadata": {},
   "outputs": [],
   "source": [
    "plt.scatter(*xUnlabeled.T)\n",
    "plt.scatter(*xPos.T)"
   ]
  },
  {
   "cell_type": "code",
   "execution_count": null,
   "id": "3b2efe80",
   "metadata": {},
   "outputs": [],
   "source": [
    "# export\n",
    "class MSGMM:\n",
    "    def __init__(self):\n",
    "        self.wiL = np.random.beta(5,2,size=(xPos.shape[0]))\n",
    "        self.wiU = np.random.beta(2,5,size=(xUnlabeled.shape[0])) \n",
    "    def updateAlpha(self):\n",
    "        self.alpha = np.mean(self.wiU)\n",
    "\n",
    "    def updateBeta(self):\n",
    "        self.beta = np.mean(self.wiL)\n",
    "\n",
    "    def updateU1(self, xUnlabeled, xPos):\n",
    "        self.u1 = (self.wiU.T @ xUnlabeled +self.wiL.T@xPos) / (np.sum(self.wiU) + np.sum(self.wiL))\n",
    "\n",
    "    def updateU0(self, xUnlabeled, xPos):\n",
    "        self.u0 = (((1-self.wiU).T@xUnlabeled) + ((1-self.wiL).T@xPos)) / (np.sum(1-self.wiU) + np.sum(1-self.wiL))\n",
    "\n",
    "    def updateSigma1(self, xUnlabeled, xPos):\n",
    "        s11 = xUnlabeled - np.repeat(self.u1[None], xUnlabeled.shape[0],0)\n",
    "        s1 = s11.T @ np.diag(self.wiU.ravel()) @ s11\n",
    "        s22 = xPos - np.repeat(self.u1[None],xPos.shape[0],0)\n",
    "        s2 = s22.T @ np.diag(self.wiL.ravel()) @ s22\n",
    "        self.sigma1 = (s1 + s2) / (np.sum(self.wiU) + np.sum(self.wiL))\n",
    "    def updateSigma0(self, xUnlabeled, xPos):\n",
    "        s11= xUnlabeled - np.repeat(self.u0[None],xUnlabeled.shape[0],0)\n",
    "        s22 = xPos - np.repeat(self.u0[None], xPos.shape[0],0)\n",
    "        s1 = s11.T @ np.diag(1 - self.wiU.ravel()) @ s11\n",
    "        s2 = s22.T @ np.diag(1 - self.wiL.ravel()) @ s22\n",
    "        self.sigma0 = (s1 + s2) / (np.sum(1 - self.wiU) + np.sum(1-self.wiL))\n",
    "\n",
    "    def fit(self, xUnlabeled, xPos,verbose=True,iterations=100):\n",
    "        for iteration in range(iterations):\n",
    "            # M-Step\n",
    "            self.updateAlpha()\n",
    "            self.updateBeta()\n",
    "            self.updateU1(xUnlabeled,xPos)\n",
    "            self.updateU0(xUnlabeled, xPos)\n",
    "            self.updateSigma1(xUnlabeled,xPos)\n",
    "            self.updateSigma0(xUnlabeled,xPos)\n",
    "            # E-Step\n",
    "            # Update unlabeled responsibilities\n",
    "            phi1U= ss.multivariate_normal.pdf(xUnlabeled,mean=self.u1.ravel(),cov=self.sigma1)\n",
    "            phi0U= ss.multivariate_normal.pdf(xUnlabeled,mean=self.u0.ravel(),cov=self.sigma0)\n",
    "            self.wiU = self.alpha * phi1U / (self.alpha * phi1U + (1-self.alpha) * phi0U)\n",
    "            # Update positive responsibilities\n",
    "            phi1L= ss.multivariate_normal.pdf(xPos,mean=self.u1.ravel(),cov=self.sigma1)\n",
    "            phi0L= ss.multivariate_normal.pdf(xPos,mean=self.u0.ravel(),cov=self.sigma0)\n",
    "            self.wiL = self.beta * phi1L / (self.beta * phi1L + (1-self.beta) * phi0L)\n",
    "            if verbose and not iteration % 5:\n",
    "                print(np.concatenate((self.sigma1,self.sigma0),axis=1))\n",
    "                print()\n",
    "                print(self.alpha, self.beta, self.u1, self.u0)\n",
    "                print()\n",
    "                \n",
    "    def predict_proba(self,x):\n",
    "        phi1 = ss.multivariate_normal.pdf(x, mean=self.u1.ravel(),cov=self.sigma1)\n",
    "        phi0 = ss.multivariate_normal.pdf(x,mean=self.u0.ravel(), cov=self.sigma0)\n",
    "        return self.alpha * phi1 / (self.alpha * phi1 + (1 - self.alpha) * phi0)"
   ]
  },
  {
   "cell_type": "code",
   "execution_count": null,
   "id": "769d37cf",
   "metadata": {},
   "outputs": [],
   "source": [
    "msgmm = MSGMM()"
   ]
  },
  {
   "cell_type": "code",
   "execution_count": null,
   "id": "a51d6b8f",
   "metadata": {},
   "outputs": [],
   "source": [
    "msgmm.fit(xUnlabeled, xPos,iterations=500)"
   ]
  },
  {
   "cell_type": "code",
   "execution_count": null,
   "id": "49515ef5",
   "metadata": {},
   "outputs": [],
   "source": [
    "def truePosterior(x):\n",
    "    return alpha * f1.pdf(x) / (alpha * f1.pdf(x) + (1-alpha) * f0.pdf(x))"
   ]
  },
  {
   "cell_type": "code",
   "execution_count": null,
   "id": "95dc286b",
   "metadata": {},
   "outputs": [],
   "source": [
    "plt.scatter(msgmm.predict_proba(xUnlabeled),truePosterior(xUnlabeled))"
   ]
  },
  {
   "cell_type": "code",
   "execution_count": null,
   "id": "c8b75f58",
   "metadata": {},
   "outputs": [],
   "source": []
  }
 ],
 "metadata": {
  "language_info": {
   "name": "python",
   "pygments_lexer": "ipython3"
  }
 },
 "nbformat": 4,
 "nbformat_minor": 5
}
