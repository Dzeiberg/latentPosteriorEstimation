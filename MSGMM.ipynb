{
 "cells": [
  {
   "cell_type": "code",
   "execution_count": null,
   "metadata": {},
   "outputs": [],
   "source": [
    "# default_exp msgmm"
   ]
  },
  {
   "cell_type": "code",
   "execution_count": 1,
   "metadata": {
    "ExecuteTime": {
     "end_time": "2021-10-04T13:50:01.421229Z",
     "start_time": "2021-10-04T13:49:59.426514Z"
    }
   },
   "outputs": [],
   "source": [
    "# export\n",
    "import numpy as np\n",
    "import tensorflow as tf\n",
    "import matplotlib.pyplot as plt\n",
    "import scipy.stats as ss\n",
    "from tqdm.notebook import tqdm, trange"
   ]
  },
  {
   "cell_type": "code",
   "execution_count": 2,
   "metadata": {
    "ExecuteTime": {
     "end_time": "2021-10-04T13:50:03.360814Z",
     "start_time": "2021-10-04T13:50:03.304724Z"
    }
   },
   "outputs": [],
   "source": [
    "nP = 1000\n",
    "nU = 5000\n",
    "m1 = np.zeros(2) + 1.5\n",
    "m0 = np.zeros(2) - 1.5\n",
    "s1 = np.eye(2)\n",
    "s0 = np.eye(2)\n",
    "f1 = ss.multivariate_normal(mean=m1,cov=s1)\n",
    "f0 = ss.multivariate_normal(mean=m0,cov=s0)\n",
    "xPos = f1.rvs(size=nP)\n",
    "alpha = .5\n",
    "xUnlabeled = np.concatenate([f1.rvs(size=int(alpha * nU)),\n",
    "                             f0.rvs(size=int((1-alpha) * nU))],axis=0)"
   ]
  },
  {
   "cell_type": "code",
   "execution_count": 3,
   "metadata": {
    "ExecuteTime": {
     "end_time": "2021-10-04T13:50:03.755083Z",
     "start_time": "2021-10-04T13:50:03.552141Z"
    }
   },
   "outputs": [
    {
     "data": {
      "text/plain": [
       "<matplotlib.collections.PathCollection at 0x7f73482fadd0>"
      ]
     },
     "execution_count": 3,
     "metadata": {},
     "output_type": "execute_result"
    },
    {
     "data": {
      "image/png": "[encoded data removed]",
      "text/plain": [
       "<Figure size 432x288 with 1 Axes>"
      ]
     },
     "metadata": {
      "needs_background": "light"
     },
     "output_type": "display_data"
    }
   ],
   "source": [
    "plt.scatter(*xUnlabeled.T)\n",
    "plt.scatter(*xPos.T)"
   ]
  },
  {
   "cell_type": "code",
   "execution_count": 10,
   "metadata": {
    "ExecuteTime": {
     "end_time": "2021-10-04T13:57:01.964141Z",
     "start_time": "2021-10-04T13:57:01.931080Z"
    }
   },
   "outputs": [],
   "source": [
    "# export\n",
    "class MSGMM:\n",
    "    def __init__(self):\n",
    "        pass\n",
    "    def updateAlpha(self):\n",
    "        self.alpha = np.mean(self.wiU)\n",
    "\n",
    "    def updateBeta(self):\n",
    "        self.beta = np.mean(self.wiL)\n",
    "\n",
    "    def updateU1(self, xUnlabeled, xPos):\n",
    "        self.u1 = (self.wiU.T @ xUnlabeled +self.wiL.T@xPos) / (np.sum(self.wiU) + np.sum(self.wiL))\n",
    "\n",
    "    def updateU0(self, xUnlabeled, xPos):\n",
    "        self.u0 = (((1-self.wiU).T@xUnlabeled) + ((1-self.wiL).T@xPos)) / (np.sum(1-self.wiU) + np.sum(1-self.wiL))\n",
    "\n",
    "    def updateSigma1(self, xUnlabeled, xPos):\n",
    "        s11 = xUnlabeled - np.repeat(self.u1[None], xUnlabeled.shape[0],0)\n",
    "        s1 = s11.T @ np.diag(self.wiU.ravel()) @ s11\n",
    "        s22 = xPos - np.repeat(self.u1[None],xPos.shape[0],0)\n",
    "        s2 = s22.T @ np.diag(self.wiL.ravel()) @ s22\n",
    "        self.sigma1 = (s1 + s2) / (np.sum(self.wiU) + np.sum(self.wiL))\n",
    "    def updateSigma0(self, xUnlabeled, xPos):\n",
    "        s11= xUnlabeled - np.repeat(self.u0[None],xUnlabeled.shape[0],0)\n",
    "        s22 = xPos - np.repeat(self.u0[None], xPos.shape[0],0)\n",
    "        s1 = s11.T @ np.diag(1 - self.wiU.ravel()) @ s11\n",
    "        s2 = s22.T @ np.diag(1 - self.wiL.ravel()) @ s22\n",
    "        self.sigma0 = (s1 + s2) / (np.sum(1 - self.wiU) + np.sum(1-self.wiL))\n",
    "\n",
    "    def fit(self, xUnlabeled, xPos,verbose=True,iterations=100):\n",
    "        self.wiL = np.random.beta(5,2,size=(xPos.shape[0]))\n",
    "        self.wiU = np.random.beta(2,5,size=(xUnlabeled.shape[0]))\n",
    "        for iteration in trange(iterations):\n",
    "            # M-Step\n",
    "            self.updateAlpha()\n",
    "            self.updateBeta()\n",
    "            self.updateU1(xUnlabeled,xPos)\n",
    "            self.updateU0(xUnlabeled, xPos)\n",
    "            self.updateSigma1(xUnlabeled,xPos)\n",
    "            self.updateSigma0(xUnlabeled,xPos)\n",
    "            # E-Step\n",
    "            # Update unlabeled responsibilities\n",
    "            phi1U= ss.multivariate_normal.pdf(xUnlabeled,mean=self.u1.ravel(),cov=self.sigma1)\n",
    "            phi0U= ss.multivariate_normal.pdf(xUnlabeled,mean=self.u0.ravel(),cov=self.sigma0)\n",
    "            self.wiU = self.alpha * phi1U / (self.alpha * phi1U + (1-self.alpha) * phi0U)\n",
    "            # Update positive responsibilities\n",
    "            phi1L= ss.multivariate_normal.pdf(xPos,mean=self.u1.ravel(),cov=self.sigma1)\n",
    "            phi0L= ss.multivariate_normal.pdf(xPos,mean=self.u0.ravel(),cov=self.sigma0)\n",
    "            self.wiL = self.beta * phi1L / (self.beta * phi1L + (1-self.beta) * phi0L)\n",
    "            if verbose and not iteration % 5:\n",
    "                print(np.concatenate((self.sigma1,self.sigma0),axis=1))\n",
    "                print()\n",
    "                print(self.alpha, self.beta, self.u1, self.u0)\n",
    "                print()\n",
    "                \n",
    "    def predict_proba(self,x):\n",
    "        phi1 = ss.multivariate_normal.pdf(x, mean=self.u1.ravel(),cov=self.sigma1)\n",
    "        phi0 = ss.multivariate_normal.pdf(x,mean=self.u0.ravel(), cov=self.sigma0)\n",
    "        return self.alpha * phi1 / (self.alpha * phi1 + (1 - self.alpha) * phi0)"
   ]
  },
  {
   "cell_type": "code",
   "execution_count": 5,
   "metadata": {
    "ExecuteTime": {
     "end_time": "2021-10-04T13:50:05.964201Z",
     "start_time": "2021-10-04T13:50:05.959892Z"
    }
   },
   "outputs": [],
   "source": [
    "msgmm = MSGMM()"
   ]
  },
  {
   "cell_type": "code",
   "execution_count": 7,
   "metadata": {
    "ExecuteTime": {
     "end_time": "2021-10-04T13:51:09.428260Z",
     "start_time": "2021-10-04T13:50:18.076484Z"
    },
    "scrolled": true
   },
   "outputs": [
    {
     "data": {
      "application/vnd.jupyter.widget-view+json": {
       "model_id": "42c038c1884d47e9b3dc33494d14d91f",
       "version_major": 2,
       "version_minor": 0
      },
      "text/plain": [
       "HBox(children=(FloatProgress(value=0.0, max=500.0), HTML(value='')))"
      ]
     },
     "metadata": {},
     "output_type": "display_data"
    },
    {
     "name": "stdout",
     "output_type": "stream",
     "text": [
      "\n"
     ]
    }
   ],
   "source": [
    "msgmm.fit(xUnlabeled, xPos,iterations=500,verbose=False)"
   ]
  },
  {
   "cell_type": "code",
   "execution_count": 8,
   "metadata": {
    "ExecuteTime": {
     "end_time": "2021-10-04T13:51:14.886726Z",
     "start_time": "2021-10-04T13:51:14.880652Z"
    }
   },
   "outputs": [],
   "source": [
    "def truePosterior(x):\n",
    "    return alpha * f1.pdf(x) / (alpha * f1.pdf(x) + (1-alpha) * f0.pdf(x))"
   ]
  },
  {
   "cell_type": "code",
   "execution_count": 9,
   "metadata": {
    "ExecuteTime": {
     "end_time": "2021-10-04T13:51:15.620200Z",
     "start_time": "2021-10-04T13:51:15.442486Z"
    }
   },
   "outputs": [
    {
     "data": {
      "text/plain": [
       "<matplotlib.collections.PathCollection at 0x7f734828c550>"
      ]
     },
     "execution_count": 9,
     "metadata": {},
     "output_type": "execute_result"
    },
    {
     "data": {
      "image/png": "[encoded data removed]",
      "text/plain": [
       "<Figure size 432x288 with 1 Axes>"
      ]
     },
     "metadata": {
      "needs_background": "light"
     },
     "output_type": "display_data"
    }
   ],
   "source": [
    "plt.scatter(msgmm.predict_proba(xUnlabeled),truePosterior(xUnlabeled))"
   ]
  },
  {
   "cell_type": "code",
   "execution_count": null,
   "metadata": {},
   "outputs": [],
   "source": []
  }
 ],
 "metadata": {
  "kernelspec": {
   "display_name": "base",
   "language": "python",
   "name": "base"
  },
  "language_info": {
   "codemirror_mode": {
    "name": "ipython",
    "version": 3
   },
   "file_extension": ".py",
   "mimetype": "text/x-python",
   "name": "python",
   "nbconvert_exporter": "python",
   "pygments_lexer": "ipython3",
   "version": "3.7.6"
  }
 },
 "nbformat": 4,
 "nbformat_minor": 5
}
