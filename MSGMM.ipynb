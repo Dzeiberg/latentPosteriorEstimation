{
 "cells": [
  {
   "cell_type": "code",
   "execution_count": null,
   "id": "fb2eedcb",
   "metadata": {},
   "outputs": [],
   "source": [
    "# default_exp msgmm"
   ]
  },
  {
   "cell_type": "code",
   "execution_count": null,
   "id": "f8da6f62",
   "metadata": {},
   "outputs": [],
   "source": [
    "# export\n",
    "import numpy as np\n",
    "import tensorflow as tf\n",
    "import matplotlib.pyplot as plt\n",
    "import scipy.stats as ss"
   ]
  },
  {
   "cell_type": "code",
   "execution_count": null,
   "id": "0fcf2585",
   "metadata": {},
   "outputs": [],
   "source": [
    "nP = 1000\n",
    "nU = 5000\n",
    "m1 = np.zeros(2) + 1.5\n",
    "m0 = np.zeros(2) - 1.5\n",
    "s1 = np.eye(2)\n",
    "s0 = np.eye(2)\n",
    "f1 = ss.multivariate_normal(mean=m1,cov=s1)\n",
    "f0 = ss.multivariate_normal(mean=m0,cov=s0)\n",
    "xPos = f1.rvs(size=nP)\n",
    "alpha = .5\n",
    "xUnlabeled = np.concatenate([f1.rvs(size=int(alpha * nU)),\n",
    "                             f0.rvs(size=int((1-alpha) * nU))],axis=0)"
   ]
  },
  {
   "cell_type": "code",
   "execution_count": null,
   "id": "9722e6e9",
   "metadata": {},
   "outputs": [
    {
     "data": {
      "text/plain": [
       "<matplotlib.collections.PathCollection at 0x7fc5c4453c70>"
      ]
     },
     "execution_count": null,
     "metadata": {},
     "output_type": "execute_result"
    },
    {
     "data": {
      "image/png": "[encoded data removed]",
      "text/plain": [
       "<Figure size 432x288 with 1 Axes>"
      ]
     },
     "metadata": {
      "needs_background": "light"
     },
     "output_type": "display_data"
    }
   ],
   "source": [
    "plt.scatter(*xUnlabeled.T)\n",
    "plt.scatter(*xPos.T)"
   ]
  },
  {
   "cell_type": "code",
   "execution_count": null,
   "id": "3b2efe80",
   "metadata": {},
   "outputs": [],
   "source": [
    "# export\n",
    "class MSGMM:\n",
    "    def __init__(self):\n",
    "        pass\n",
    "    def updateAlpha(self):\n",
    "        self.alpha = np.mean(self.wiU)\n",
    "\n",
    "    def updateBeta(self):\n",
    "        self.beta = np.mean(self.wiL)\n",
    "\n",
    "    def updateU1(self, xUnlabeled, xPos):\n",
    "        self.u1 = (self.wiU.T @ xUnlabeled +self.wiL.T@xPos) / (np.sum(self.wiU) + np.sum(self.wiL))\n",
    "\n",
    "    def updateU0(self, xUnlabeled, xPos):\n",
    "        self.u0 = (((1-self.wiU).T@xUnlabeled) + ((1-self.wiL).T@xPos)) / (np.sum(1-self.wiU) + np.sum(1-self.wiL))\n",
    "\n",
    "    def updateSigma1(self, xUnlabeled, xPos):\n",
    "        s11 = xUnlabeled - np.repeat(self.u1[None], xUnlabeled.shape[0],0)\n",
    "        s1 = s11.T @ np.diag(self.wiU.ravel()) @ s11\n",
    "        s22 = xPos - np.repeat(self.u1[None],xPos.shape[0],0)\n",
    "        s2 = s22.T @ np.diag(self.wiL.ravel()) @ s22\n",
    "        self.sigma1 = (s1 + s2) / (np.sum(self.wiU) + np.sum(self.wiL))\n",
    "    def updateSigma0(self, xUnlabeled, xPos):\n",
    "        s11= xUnlabeled - np.repeat(self.u0[None],xUnlabeled.shape[0],0)\n",
    "        s22 = xPos - np.repeat(self.u0[None], xPos.shape[0],0)\n",
    "        s1 = s11.T @ np.diag(1 - self.wiU.ravel()) @ s11\n",
    "        s2 = s22.T @ np.diag(1 - self.wiL.ravel()) @ s22\n",
    "        self.sigma0 = (s1 + s2) / (np.sum(1 - self.wiU) + np.sum(1-self.wiL))\n",
    "\n",
    "    def fit(self, xUnlabeled, xPos,verbose=True,iterations=100):\n",
    "        self.wiL = np.random.beta(5,2,size=(xPos.shape[0]))\n",
    "        self.wiU = np.random.beta(2,5,size=(xUnlabeled.shape[0]))\n",
    "        for iteration in range(iterations):\n",
    "            # M-Step\n",
    "            self.updateAlpha()\n",
    "            self.updateBeta()\n",
    "            self.updateU1(xUnlabeled,xPos)\n",
    "            self.updateU0(xUnlabeled, xPos)\n",
    "            self.updateSigma1(xUnlabeled,xPos)\n",
    "            self.updateSigma0(xUnlabeled,xPos)\n",
    "            # E-Step\n",
    "            # Update unlabeled responsibilities\n",
    "            phi1U= ss.multivariate_normal.pdf(xUnlabeled,mean=self.u1.ravel(),cov=self.sigma1)\n",
    "            phi0U= ss.multivariate_normal.pdf(xUnlabeled,mean=self.u0.ravel(),cov=self.sigma0)\n",
    "            self.wiU = self.alpha * phi1U / (self.alpha * phi1U + (1-self.alpha) * phi0U)\n",
    "            # Update positive responsibilities\n",
    "            phi1L= ss.multivariate_normal.pdf(xPos,mean=self.u1.ravel(),cov=self.sigma1)\n",
    "            phi0L= ss.multivariate_normal.pdf(xPos,mean=self.u0.ravel(),cov=self.sigma0)\n",
    "            self.wiL = self.beta * phi1L / (self.beta * phi1L + (1-self.beta) * phi0L)\n",
    "            if verbose and not iteration % 5:\n",
    "                print(np.concatenate((self.sigma1,self.sigma0),axis=1))\n",
    "                print()\n",
    "                print(self.alpha, self.beta, self.u1, self.u0)\n",
    "                print()\n",
    "                \n",
    "    def predict_proba(self,x):\n",
    "        phi1 = ss.multivariate_normal.pdf(x, mean=self.u1.ravel(),cov=self.sigma1)\n",
    "        phi0 = ss.multivariate_normal.pdf(x,mean=self.u0.ravel(), cov=self.sigma0)\n",
    "        return self.alpha * phi1 / (self.alpha * phi1 + (1 - self.alpha) * phi0)"
   ]
  },
  {
   "cell_type": "code",
   "execution_count": null,
   "id": "769d37cf",
   "metadata": {},
   "outputs": [],
   "source": [
    "msgmm = MSGMM()"
   ]
  },
  {
   "cell_type": "code",
   "execution_count": null,
   "id": "a51d6b8f",
   "metadata": {},
   "outputs": [
    {
     "name": "stdout",
     "output_type": "stream",
     "text": [
      "[[2.98715256 1.96208775 3.24093561 2.24627376]\n",
      " [1.96208775 2.96779642 2.24627376 3.24926901]]\n",
      "\n",
      "0.2867405888822279 0.7115332962886693 [0.48329736 0.49301516] [0.10367594 0.12171008]\n",
      "\n",
      "[[1.00985977 0.02915214 2.88016977 1.87482169]\n",
      " [0.02915214 1.04977166 1.87482169 2.88375755]]\n",
      "\n",
      "0.2567822546851591 0.9728687642164643 [1.53154382 1.53354053] [-0.53962212 -0.51668512]\n",
      "\n",
      "[[ 0.8997558  -0.07687933  1.78487912  0.77655159]\n",
      " [-0.07687933  0.92764679  0.77655159  1.80542656]]\n",
      "\n",
      "0.3965565685634311 0.9925731163573764 [1.60607487 1.61098548] [-1.10499323 -1.07994779]\n",
      "\n",
      "[[ 0.9524978  -0.03197892  1.04644594  0.03736558]\n",
      " [-0.03197892  0.97623354  0.03736558  1.06026509]]\n",
      "\n",
      "0.48816210217265515 0.9988699107933563 [1.51637615 1.52486074] [-1.47615014 -1.45225466]\n",
      "\n",
      "[[ 0.97547836 -0.00838375  0.99259052 -0.01577393]\n",
      " [-0.00838375  1.00145947 -0.01577393  1.00727304]]\n",
      "\n",
      "0.49905705580071336 0.9999522502220572 [1.49521377 1.50333178] [-1.51299538 -1.48824653]\n",
      "\n",
      "[[ 0.97688053 -0.00690175  0.9902862  -0.01800079]\n",
      " [-0.00690175  1.00303991 -0.01800079  1.00513716]]\n",
      "\n",
      "0.4996037661134897 0.9999986524728353 [1.494061   1.50213443] [-1.51472612 -1.48989647]\n",
      "\n",
      "[[ 0.97694561 -0.00683352  0.99018145 -0.01810311]\n",
      " [-0.00683352  1.0031113  -0.01810311  1.00503911]]\n",
      "\n",
      "0.4996290409593063 0.9999999631704714 [1.49400781 1.50207963] [-1.51480529 -1.48997254]\n",
      "\n",
      "[[ 0.97694853 -0.00683047  0.99017676 -0.01810772]\n",
      " [-0.00683047  1.00311444 -0.01810772  1.00503467]]\n",
      "\n",
      "0.4996301789020976 0.9999999989951659 [1.49400542 1.50207719] [-1.51480884 -1.48997597]\n",
      "\n",
      "[[ 0.97694866 -0.00683034  0.99017655 -0.01810793]\n",
      " [-0.00683034  1.00311458 -0.01810793  1.00503448]]\n",
      "\n",
      "0.4996302293909159 0.999999999972587 [1.49400531 1.50207708] [-1.514809   -1.48997613]\n",
      "\n",
      "[[ 0.97694866 -0.00683033  0.99017655 -0.01810794]\n",
      " [-0.00683033  1.00311459 -0.01810794  1.00503447]]\n",
      "\n",
      "0.4996302316115612 0.9999999999992522 [1.49400531 1.50207707] [-1.514809   -1.48997613]\n",
      "\n",
      "[[ 0.97694866 -0.00683033  0.99017655 -0.01810794]\n",
      " [-0.00683033  1.00311459 -0.01810794  1.00503447]]\n",
      "\n",
      "0.49963023170871285 0.9999999999999797 [1.49400531 1.50207707] [-1.514809   -1.48997613]\n",
      "\n",
      "[[ 0.97694866 -0.00683033  0.99017655 -0.01810794]\n",
      " [-0.00683033  1.00311459 -0.01810794  1.00503447]]\n",
      "\n",
      "0.4996302317129492 0.9999999999999996 [1.49400531 1.50207707] [-1.514809   -1.48997613]\n",
      "\n",
      "[[ 0.97694866 -0.00683033  0.99017655 -0.01810794]\n",
      " [-0.00683033  1.00311459 -0.01810794  1.00503447]]\n",
      "\n",
      "0.49963023171313353 1.0 [1.49400531 1.50207707] [-1.514809   -1.48997613]\n",
      "\n",
      "[[ 0.97694866 -0.00683033  0.99017655 -0.01810794]\n",
      " [-0.00683033  1.00311459 -0.01810794  1.00503447]]\n",
      "\n",
      "0.4996302317131415 1.0 [1.49400531 1.50207707] [-1.514809   -1.48997613]\n",
      "\n",
      "[[ 0.97694866 -0.00683033  0.99017655 -0.01810794]\n",
      " [-0.00683033  1.00311459 -0.01810794  1.00503447]]\n",
      "\n",
      "0.4996302317131418 1.0 [1.49400531 1.50207707] [-1.514809   -1.48997613]\n",
      "\n",
      "[[ 0.97694866 -0.00683033  0.99017655 -0.01810794]\n",
      " [-0.00683033  1.00311459 -0.01810794  1.00503447]]\n",
      "\n",
      "0.4996302317131419 1.0 [1.49400531 1.50207707] [-1.514809   -1.48997613]\n",
      "\n",
      "[[ 0.97694866 -0.00683033  0.99017655 -0.01810794]\n",
      " [-0.00683033  1.00311459 -0.01810794  1.00503447]]\n",
      "\n",
      "0.4996302317131419 1.0 [1.49400531 1.50207707] [-1.514809   -1.48997613]\n",
      "\n",
      "[[ 0.97694866 -0.00683033  0.99017655 -0.01810794]\n",
      " [-0.00683033  1.00311459 -0.01810794  1.00503447]]\n",
      "\n",
      "0.4996302317131419 1.0 [1.49400531 1.50207707] [-1.514809   -1.48997613]\n",
      "\n",
      "[[ 0.97694866 -0.00683033  0.99017655 -0.01810794]\n",
      " [-0.00683033  1.00311459 -0.01810794  1.00503447]]\n",
      "\n",
      "0.4996302317131419 1.0 [1.49400531 1.50207707] [-1.514809   -1.48997613]\n",
      "\n",
      "[[ 0.97694866 -0.00683033  0.99017655 -0.01810794]\n",
      " [-0.00683033  1.00311459 -0.01810794  1.00503447]]\n",
      "\n",
      "0.4996302317131419 1.0 [1.49400531 1.50207707] [-1.514809   -1.48997613]\n",
      "\n",
      "[[ 0.97694866 -0.00683033  0.99017655 -0.01810794]\n",
      " [-0.00683033  1.00311459 -0.01810794  1.00503447]]\n",
      "\n",
      "0.4996302317131419 1.0 [1.49400531 1.50207707] [-1.514809   -1.48997613]\n",
      "\n",
      "[[ 0.97694866 -0.00683033  0.99017655 -0.01810794]\n",
      " [-0.00683033  1.00311459 -0.01810794  1.00503447]]\n",
      "\n",
      "0.4996302317131419 1.0 [1.49400531 1.50207707] [-1.514809   -1.48997613]\n",
      "\n"
     ]
    },
    {
     "ename": "KeyboardInterrupt",
     "evalue": "",
     "output_type": "error",
     "traceback": [
      "\u001b[0;31m---------------------------------------------------------------------------\u001b[0m",
      "\u001b[0;31mKeyboardInterrupt\u001b[0m                         Traceback (most recent call last)",
      "\u001b[0;32m<ipython-input-40-404ef241688b>\u001b[0m in \u001b[0;36m<module>\u001b[0;34m\u001b[0m\n\u001b[0;32m----> 1\u001b[0;31m \u001b[0mmsgmm\u001b[0m\u001b[0;34m.\u001b[0m\u001b[0mfit\u001b[0m\u001b[0;34m(\u001b[0m\u001b[0mxUnlabeled\u001b[0m\u001b[0;34m,\u001b[0m \u001b[0mxPos\u001b[0m\u001b[0;34m,\u001b[0m\u001b[0miterations\u001b[0m\u001b[0;34m=\u001b[0m\u001b[0;36m500\u001b[0m\u001b[0;34m)\u001b[0m\u001b[0;34m\u001b[0m\u001b[0;34m\u001b[0m\u001b[0m\n\u001b[0m",
      "\u001b[0;32m<ipython-input-38-d5bfaa2e65b1>\u001b[0m in \u001b[0;36mfit\u001b[0;34m(self, xUnlabeled, xPos, verbose, iterations)\u001b[0m\n\u001b[1;32m     38\u001b[0m             \u001b[0mself\u001b[0m\u001b[0;34m.\u001b[0m\u001b[0mupdateU0\u001b[0m\u001b[0;34m(\u001b[0m\u001b[0mxUnlabeled\u001b[0m\u001b[0;34m,\u001b[0m \u001b[0mxPos\u001b[0m\u001b[0;34m)\u001b[0m\u001b[0;34m\u001b[0m\u001b[0;34m\u001b[0m\u001b[0m\n\u001b[1;32m     39\u001b[0m             \u001b[0mself\u001b[0m\u001b[0;34m.\u001b[0m\u001b[0mupdateSigma1\u001b[0m\u001b[0;34m(\u001b[0m\u001b[0mxUnlabeled\u001b[0m\u001b[0;34m,\u001b[0m\u001b[0mxPos\u001b[0m\u001b[0;34m)\u001b[0m\u001b[0;34m\u001b[0m\u001b[0;34m\u001b[0m\u001b[0m\n\u001b[0;32m---> 40\u001b[0;31m             \u001b[0mself\u001b[0m\u001b[0;34m.\u001b[0m\u001b[0mupdateSigma0\u001b[0m\u001b[0;34m(\u001b[0m\u001b[0mxUnlabeled\u001b[0m\u001b[0;34m,\u001b[0m\u001b[0mxPos\u001b[0m\u001b[0;34m)\u001b[0m\u001b[0;34m\u001b[0m\u001b[0;34m\u001b[0m\u001b[0m\n\u001b[0m\u001b[1;32m     41\u001b[0m             \u001b[0;31m# E-Step\u001b[0m\u001b[0;34m\u001b[0m\u001b[0;34m\u001b[0m\u001b[0;34m\u001b[0m\u001b[0m\n\u001b[1;32m     42\u001b[0m             \u001b[0;31m# Update unlabeled responsibilities\u001b[0m\u001b[0;34m\u001b[0m\u001b[0;34m\u001b[0m\u001b[0;34m\u001b[0m\u001b[0m\n",
      "\u001b[0;32m<ipython-input-38-d5bfaa2e65b1>\u001b[0m in \u001b[0;36mupdateSigma0\u001b[0;34m(self, xUnlabeled, xPos)\u001b[0m\n\u001b[1;32m     24\u001b[0m         \u001b[0ms11\u001b[0m\u001b[0;34m=\u001b[0m \u001b[0mxUnlabeled\u001b[0m \u001b[0;34m-\u001b[0m \u001b[0mnp\u001b[0m\u001b[0;34m.\u001b[0m\u001b[0mrepeat\u001b[0m\u001b[0;34m(\u001b[0m\u001b[0mself\u001b[0m\u001b[0;34m.\u001b[0m\u001b[0mu0\u001b[0m\u001b[0;34m[\u001b[0m\u001b[0;32mNone\u001b[0m\u001b[0;34m]\u001b[0m\u001b[0;34m,\u001b[0m\u001b[0mxUnlabeled\u001b[0m\u001b[0;34m.\u001b[0m\u001b[0mshape\u001b[0m\u001b[0;34m[\u001b[0m\u001b[0;36m0\u001b[0m\u001b[0;34m]\u001b[0m\u001b[0;34m,\u001b[0m\u001b[0;36m0\u001b[0m\u001b[0;34m)\u001b[0m\u001b[0;34m\u001b[0m\u001b[0;34m\u001b[0m\u001b[0m\n\u001b[1;32m     25\u001b[0m         \u001b[0ms22\u001b[0m \u001b[0;34m=\u001b[0m \u001b[0mxPos\u001b[0m \u001b[0;34m-\u001b[0m \u001b[0mnp\u001b[0m\u001b[0;34m.\u001b[0m\u001b[0mrepeat\u001b[0m\u001b[0;34m(\u001b[0m\u001b[0mself\u001b[0m\u001b[0;34m.\u001b[0m\u001b[0mu0\u001b[0m\u001b[0;34m[\u001b[0m\u001b[0;32mNone\u001b[0m\u001b[0;34m]\u001b[0m\u001b[0;34m,\u001b[0m \u001b[0mxPos\u001b[0m\u001b[0;34m.\u001b[0m\u001b[0mshape\u001b[0m\u001b[0;34m[\u001b[0m\u001b[0;36m0\u001b[0m\u001b[0;34m]\u001b[0m\u001b[0;34m,\u001b[0m\u001b[0;36m0\u001b[0m\u001b[0;34m)\u001b[0m\u001b[0;34m\u001b[0m\u001b[0;34m\u001b[0m\u001b[0m\n\u001b[0;32m---> 26\u001b[0;31m         \u001b[0ms1\u001b[0m \u001b[0;34m=\u001b[0m \u001b[0ms11\u001b[0m\u001b[0;34m.\u001b[0m\u001b[0mT\u001b[0m \u001b[0;34m@\u001b[0m \u001b[0mnp\u001b[0m\u001b[0;34m.\u001b[0m\u001b[0mdiag\u001b[0m\u001b[0;34m(\u001b[0m\u001b[0;36m1\u001b[0m \u001b[0;34m-\u001b[0m \u001b[0mself\u001b[0m\u001b[0;34m.\u001b[0m\u001b[0mwiU\u001b[0m\u001b[0;34m.\u001b[0m\u001b[0mravel\u001b[0m\u001b[0;34m(\u001b[0m\u001b[0;34m)\u001b[0m\u001b[0;34m)\u001b[0m \u001b[0;34m@\u001b[0m \u001b[0ms11\u001b[0m\u001b[0;34m\u001b[0m\u001b[0;34m\u001b[0m\u001b[0m\n\u001b[0m\u001b[1;32m     27\u001b[0m         \u001b[0ms2\u001b[0m \u001b[0;34m=\u001b[0m \u001b[0ms22\u001b[0m\u001b[0;34m.\u001b[0m\u001b[0mT\u001b[0m \u001b[0;34m@\u001b[0m \u001b[0mnp\u001b[0m\u001b[0;34m.\u001b[0m\u001b[0mdiag\u001b[0m\u001b[0;34m(\u001b[0m\u001b[0;36m1\u001b[0m \u001b[0;34m-\u001b[0m \u001b[0mself\u001b[0m\u001b[0;34m.\u001b[0m\u001b[0mwiL\u001b[0m\u001b[0;34m.\u001b[0m\u001b[0mravel\u001b[0m\u001b[0;34m(\u001b[0m\u001b[0;34m)\u001b[0m\u001b[0;34m)\u001b[0m \u001b[0;34m@\u001b[0m \u001b[0ms22\u001b[0m\u001b[0;34m\u001b[0m\u001b[0;34m\u001b[0m\u001b[0m\n\u001b[1;32m     28\u001b[0m         \u001b[0mself\u001b[0m\u001b[0;34m.\u001b[0m\u001b[0msigma0\u001b[0m \u001b[0;34m=\u001b[0m \u001b[0;34m(\u001b[0m\u001b[0ms1\u001b[0m \u001b[0;34m+\u001b[0m \u001b[0ms2\u001b[0m\u001b[0;34m)\u001b[0m \u001b[0;34m/\u001b[0m \u001b[0;34m(\u001b[0m\u001b[0mnp\u001b[0m\u001b[0;34m.\u001b[0m\u001b[0msum\u001b[0m\u001b[0;34m(\u001b[0m\u001b[0;36m1\u001b[0m \u001b[0;34m-\u001b[0m \u001b[0mself\u001b[0m\u001b[0;34m.\u001b[0m\u001b[0mwiU\u001b[0m\u001b[0;34m)\u001b[0m \u001b[0;34m+\u001b[0m \u001b[0mnp\u001b[0m\u001b[0;34m.\u001b[0m\u001b[0msum\u001b[0m\u001b[0;34m(\u001b[0m\u001b[0;36m1\u001b[0m\u001b[0;34m-\u001b[0m\u001b[0mself\u001b[0m\u001b[0;34m.\u001b[0m\u001b[0mwiL\u001b[0m\u001b[0;34m)\u001b[0m\u001b[0;34m)\u001b[0m\u001b[0;34m\u001b[0m\u001b[0;34m\u001b[0m\u001b[0m\n",
      "\u001b[0;31mKeyboardInterrupt\u001b[0m: "
     ]
    }
   ],
   "source": [
    "msgmm.fit(xUnlabeled, xPos,iterations=500)"
   ]
  },
  {
   "cell_type": "code",
   "execution_count": null,
   "id": "49515ef5",
   "metadata": {},
   "outputs": [],
   "source": [
    "def truePosterior(x):\n",
    "    return alpha * f1.pdf(x) / (alpha * f1.pdf(x) + (1-alpha) * f0.pdf(x))"
   ]
  },
  {
   "cell_type": "code",
   "execution_count": null,
   "id": "95dc286b",
   "metadata": {},
   "outputs": [
    {
     "data": {
      "text/plain": [
       "<matplotlib.collections.PathCollection at 0x7fc5c42238b0>"
      ]
     },
     "execution_count": null,
     "metadata": {},
     "output_type": "execute_result"
    },
    {
     "data": {
      "image/png": "[encoded data removed]",
      "text/plain": [
       "<Figure size 432x288 with 1 Axes>"
      ]
     },
     "metadata": {
      "needs_background": "light"
     },
     "output_type": "display_data"
    }
   ],
   "source": [
    "plt.scatter(msgmm.predict_proba(xUnlabeled),truePosterior(xUnlabeled))"
   ]
  },
  {
   "cell_type": "code",
   "execution_count": null,
   "id": "c8b75f58",
   "metadata": {},
   "outputs": [],
   "source": []
  }
 ],
 "metadata": {
  "kernelspec": {
   "display_name": "base",
   "language": "python",
   "name": "base"
  }
 },
 "nbformat": 4,
 "nbformat_minor": 5
}
